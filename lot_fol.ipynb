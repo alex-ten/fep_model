{
 "cells": [
  {
   "cell_type": "code",
   "execution_count": 1,
   "metadata": {},
   "outputs": [],
   "source": [
    "from LOTlib3.Grammar import Grammar\n",
    "from LOTlib3.Hypotheses.LOTHypothesis import LOTHypothesis\n",
    "from LOTlib3.Hypotheses.Likelihoods.BinaryLikelihood import BinaryLikelihood\n",
    "from LOTlib3.DataAndObjects import FunctionData, Obj # for nicely managing data\n",
    "\n",
    "from LOTlib3 import break_ctrlc\n",
    "from LOTlib3.Miscellaneous import qq\n",
    "from LOTlib3.TopN import TopN\n",
    "from LOTlib3.Samplers.MetropolisHastings import MetropolisHastingsSampler"
   ]
  },
  {
   "attachments": {},
   "cell_type": "markdown",
   "metadata": {},
   "source": [
    "# Grammar"
   ]
  },
  {
   "cell_type": "code",
   "execution_count": 11,
   "metadata": {},
   "outputs": [
    {
     "data": {
      "text/plain": [
       "BOOL -> is_color_['OBJECT', \"'green'\"]\tw/ p=5.0"
      ]
     },
     "execution_count": 11,
     "metadata": {},
     "output_type": "execute_result"
    }
   ],
   "source": [
    "grammar = Grammar()\n",
    "\n",
    "grammar.add_rule('START', '', ['QUANT'], 1.0)\n",
    "\n",
    "# Very simple -- one allowed and required quantifier\n",
    "# grammar.add_rule('QUANT', 'exists_', ['FUNCTION', 'SET'], 1.00)\n",
    "grammar.add_rule('QUANT', 'forall_', ['FUNCTION', 'SET'], 1.00)\n",
    "\n",
    "# The thing we are a function of\n",
    "grammar.add_rule('SET', 'S', None, 1.0)\n",
    "\n",
    "# And allow us to create a new kind of function\n",
    "grammar.add_rule('FUNCTION', 'lambda', ['BOOL'], 1.0, bv_type='OBJECT')\n",
    "\n",
    "# Logical connectives\n",
    "grammar.add_rule('BOOL', 'and_', ['BOOL', 'BOOL'], 1.0)\n",
    "grammar.add_rule('BOOL', 'or_', ['BOOL', 'BOOL'], 1.0)\n",
    "# grammar.add_rule('BOOL', 'not_', ['BOOL'], 1.0)\n",
    "\n",
    "# non-terminal arguments get passed as normal python arguments\n",
    "grammar.add_rule('BOOL', 'is_color_',  ['OBJECT', '\\'red\\''],   5.00) # --> is_color_(OBJECT, 'red') --> OBJECT.color == 'red'\n",
    "grammar.add_rule('BOOL', 'is_color_',  ['OBJECT', '\\'blue\\''],  5.00)\n",
    "grammar.add_rule('BOOL', 'is_color_',  ['OBJECT', '\\'green\\''], 5.00)\n"
   ]
  },
  {
   "attachments": {},
   "cell_type": "markdown",
   "metadata": {},
   "source": [
    "# Data"
   ]
  },
  {
   "cell_type": "code",
   "execution_count": 12,
   "metadata": {},
   "outputs": [
    {
     "name": "stdout",
     "output_type": "stream",
     "text": [
      "[<{<OBJECT: color=green >, <OBJECT: color=red >, <OBJECT: color=red >} -> True>]\n"
     ]
    }
   ],
   "source": [
    "def make_data(n=1):\n",
    "    return [ FunctionData(input=[ {Obj(color='red'), Obj(color='red'), Obj(color='green')} ], output=True, alpha=0.99) ]*n\n",
    "\n",
    "\n",
    "data = make_data()\n",
    "print(data)"
   ]
  },
  {
   "attachments": {},
   "cell_type": "markdown",
   "metadata": {},
   "source": [
    "# Inference"
   ]
  },
  {
   "cell_type": "code",
   "execution_count": 13,
   "metadata": {},
   "outputs": [
    {
     "name": "stdout",
     "output_type": "stream",
     "text": [
      "NameError in function call:  name 'OBJECT' is not defined  ;  lambda S: is_color_(OBJECT, 'red') ({<OBJECT: color=green >, <OBJECT: color=red >, <OBJECT: color=red >},)\n"
     ]
    },
    {
     "name": "stderr",
     "output_type": "stream",
     "text": [
      "/opt/miniconda3/envs/iac/lib/python3.10/site-packages/LOTlib3/Miscellaneous.py:190: SyntaxWarning: \"is not\" with a literal. Did you mean \"!=\"?\n",
      "  and (slot is not \"__doc__\") and (slot is not \"__module__\"):\n",
      "/opt/miniconda3/envs/iac/lib/python3.10/site-packages/LOTlib3/Miscellaneous.py:190: SyntaxWarning: \"is not\" with a literal. Did you mean \"!=\"?\n",
      "  and (slot is not \"__doc__\") and (slot is not \"__module__\"):\n",
      "/opt/miniconda3/envs/iac/lib/python3.10/site-packages/LOTlib3/Miscellaneous.py:190: SyntaxWarning: \"is not\" with a literal. Did you mean \"!=\"?\n",
      "  and (slot is not \"__doc__\") and (slot is not \"__module__\"):\n",
      "/opt/miniconda3/envs/iac/lib/python3.10/site-packages/LOTlib3/Miscellaneous.py:190: SyntaxWarning: \"is not\" with a literal. Did you mean \"!=\"?\n",
      "  and (slot is not \"__doc__\") and (slot is not \"__module__\"):\n"
     ]
    },
    {
     "ename": "NameError",
     "evalue": "",
     "output_type": "error",
     "traceback": [
      "\u001b[0;31m---------------------------------------------------------------------------\u001b[0m",
      "\u001b[0;31mNameError\u001b[0m                                 Traceback (most recent call last)",
      "File \u001b[0;32m/opt/miniconda3/envs/iac/lib/python3.10/site-packages/LOTlib3/Hypotheses/LOTHypothesis.py:49\u001b[0m, in \u001b[0;36mLOTHypothesis.__call__\u001b[0;34m(self, *args)\u001b[0m\n\u001b[1;32m     48\u001b[0m \u001b[39mtry\u001b[39;00m:\n\u001b[0;32m---> 49\u001b[0m     \u001b[39mreturn\u001b[39;00m FunctionHypothesis\u001b[39m.\u001b[39;49m\u001b[39m__call__\u001b[39;49m(\u001b[39mself\u001b[39;49m, \u001b[39m*\u001b[39;49margs)\n\u001b[1;32m     50\u001b[0m \u001b[39mexcept\u001b[39;00m \u001b[39mTypeError\u001b[39;00m \u001b[39mas\u001b[39;00m e:\n",
      "File \u001b[0;32m/opt/miniconda3/envs/iac/lib/python3.10/site-packages/LOTlib3/Hypotheses/FunctionHypothesis.py:38\u001b[0m, in \u001b[0;36mFunctionHypothesis.__call__\u001b[0;34m(self, *vals)\u001b[0m\n\u001b[1;32m     32\u001b[0m \u001b[39mdef\u001b[39;00m \u001b[39m__call__\u001b[39m(\u001b[39mself\u001b[39m, \u001b[39m*\u001b[39mvals):\n\u001b[1;32m     33\u001b[0m \n\u001b[1;32m     34\u001b[0m     \u001b[39m# The below assertions are useful but VERY slow\u001b[39;00m\n\u001b[1;32m     35\u001b[0m     \u001b[39m#assert not any([isinstance(x, FunctionData) for x in vals]), \"*** Probably you mean to pass FunctionData.input instead of FunctionData?\"\u001b[39;00m\n\u001b[1;32m     36\u001b[0m     \u001b[39m#assert callable(self.fvalue)\u001b[39;00m\n\u001b[0;32m---> 38\u001b[0m     \u001b[39mreturn\u001b[39;00m \u001b[39mself\u001b[39;49m\u001b[39m.\u001b[39;49mfvalue(\u001b[39m*\u001b[39;49mvals)\n",
      "File \u001b[0;32m<string>:1\u001b[0m, in \u001b[0;36m<lambda>\u001b[0;34m(S)\u001b[0m\n",
      "\u001b[0;31mNameError\u001b[0m: name 'OBJECT' is not defined",
      "\nDuring handling of the above exception, another exception occurred:\n",
      "\u001b[0;31mNameError\u001b[0m                                 Traceback (most recent call last)",
      "\u001b[1;32m/Users/alexten/Projects/fep_model/lot_fol.ipynb Cell 7\u001b[0m in \u001b[0;36m<cell line: 7>\u001b[0;34m()\u001b[0m\n\u001b[1;32m      <a href='vscode-notebook-cell:/Users/alexten/Projects/fep_model/lot_fol.ipynb#W2sZmlsZQ%3D%3D?line=2'>3</a>\u001b[0m         LOTHypothesis\u001b[39m.\u001b[39m\u001b[39m__init__\u001b[39m(\u001b[39mself\u001b[39m, grammar\u001b[39m=\u001b[39mgrammar, display\u001b[39m=\u001b[39m\u001b[39m'\u001b[39m\u001b[39mlambda S: \u001b[39m\u001b[39m%s\u001b[39;00m\u001b[39m'\u001b[39m, \u001b[39m*\u001b[39m\u001b[39m*\u001b[39mkwargs)\n\u001b[1;32m      <a href='vscode-notebook-cell:/Users/alexten/Projects/fep_model/lot_fol.ipynb#W2sZmlsZQ%3D%3D?line=5'>6</a>\u001b[0m h   \u001b[39m=\u001b[39m MyHypothesis()\n\u001b[0;32m----> <a href='vscode-notebook-cell:/Users/alexten/Projects/fep_model/lot_fol.ipynb#W2sZmlsZQ%3D%3D?line=6'>7</a>\u001b[0m \u001b[39mprint\u001b[39m(\u001b[39m'\u001b[39m\u001b[39mH: \u001b[39m\u001b[39m{}\u001b[39;00m\u001b[39m; prior = \u001b[39m\u001b[39m{:.4f}\u001b[39;00m\u001b[39m; lik = \u001b[39m\u001b[39m{:.4f}\u001b[39;00m\u001b[39m'\u001b[39m\u001b[39m.\u001b[39mformat(h, h\u001b[39m.\u001b[39mcompute_prior(), h\u001b[39m.\u001b[39;49mcompute_likelihood(data)))\n\u001b[1;32m      <a href='vscode-notebook-cell:/Users/alexten/Projects/fep_model/lot_fol.ipynb#W2sZmlsZQ%3D%3D?line=8'>9</a>\u001b[0m \u001b[39mif\u001b[39;00m \u001b[39mFalse\u001b[39;00m:\n\u001b[1;32m     <a href='vscode-notebook-cell:/Users/alexten/Projects/fep_model/lot_fol.ipynb#W2sZmlsZQ%3D%3D?line=9'>10</a>\u001b[0m     top  \u001b[39m=\u001b[39m TopN(N\u001b[39m=\u001b[39m\u001b[39m10\u001b[39m)\n",
      "File \u001b[0;32m/opt/miniconda3/envs/iac/lib/python3.10/site-packages/LOTlib3/Miscellaneous.py:592\u001b[0m, in \u001b[0;36mattrmem.<locals>.wrap1.<locals>.wrap2\u001b[0;34m(self, *args, **kwargs)\u001b[0m\n\u001b[1;32m    591\u001b[0m \u001b[39mdef\u001b[39;00m \u001b[39mwrap2\u001b[39m(\u001b[39mself\u001b[39m, \u001b[39m*\u001b[39margs, \u001b[39m*\u001b[39m\u001b[39m*\u001b[39mkwargs):\n\u001b[0;32m--> 592\u001b[0m     v \u001b[39m=\u001b[39m f(\u001b[39mself\u001b[39;49m, \u001b[39m*\u001b[39;49margs, \u001b[39m*\u001b[39;49m\u001b[39m*\u001b[39;49mkwargs)\n\u001b[1;32m    593\u001b[0m     \u001b[39msetattr\u001b[39m(\u001b[39mself\u001b[39m, aname, v)\n\u001b[1;32m    594\u001b[0m     \u001b[39mreturn\u001b[39;00m v\n",
      "File \u001b[0;32m/opt/miniconda3/envs/iac/lib/python3.10/site-packages/LOTlib3/Hypotheses/Hypothesis.py:102\u001b[0m, in \u001b[0;36mHypothesis.compute_likelihood\u001b[0;34m(self, data, shortcut, **kwargs)\u001b[0m\n\u001b[1;32m    100\u001b[0m ll \u001b[39m=\u001b[39m \u001b[39m0.0\u001b[39m\n\u001b[1;32m    101\u001b[0m \u001b[39mfor\u001b[39;00m datum \u001b[39min\u001b[39;00m data:\n\u001b[0;32m--> 102\u001b[0m     ll \u001b[39m+\u001b[39m\u001b[39m=\u001b[39m \u001b[39mself\u001b[39;49m\u001b[39m.\u001b[39;49mcompute_single_likelihood(datum, \u001b[39m*\u001b[39;49m\u001b[39m*\u001b[39;49mkwargs) \u001b[39m/\u001b[39m \u001b[39mself\u001b[39m\u001b[39m.\u001b[39mlikelihood_temperature\n\u001b[1;32m    103\u001b[0m     \u001b[39mif\u001b[39;00m ll \u001b[39m<\u001b[39m shortcut:\n\u001b[1;32m    104\u001b[0m         \u001b[39m# print \"** Shortcut\", self\u001b[39;00m\n\u001b[1;32m    105\u001b[0m         \u001b[39mreturn\u001b[39;00m \u001b[39m-\u001b[39mInfinity\n",
      "File \u001b[0;32m/opt/miniconda3/envs/iac/lib/python3.10/site-packages/LOTlib3/Hypotheses/Likelihoods/BinaryLikelihood.py:10\u001b[0m, in \u001b[0;36mBinaryLikelihood.compute_single_likelihood\u001b[0;34m(self, datum)\u001b[0m\n\u001b[1;32m      8\u001b[0m \u001b[39mdef\u001b[39;00m \u001b[39mcompute_single_likelihood\u001b[39m(\u001b[39mself\u001b[39m, datum):\n\u001b[1;32m      9\u001b[0m     \u001b[39mtry\u001b[39;00m:\n\u001b[0;32m---> 10\u001b[0m         \u001b[39mreturn\u001b[39;00m log(datum\u001b[39m.\u001b[39malpha \u001b[39m*\u001b[39m (\u001b[39mself\u001b[39;49m(\u001b[39m*\u001b[39;49mdatum\u001b[39m.\u001b[39;49minput) \u001b[39m==\u001b[39m datum\u001b[39m.\u001b[39moutput) \u001b[39m+\u001b[39m (\u001b[39m1.0\u001b[39m\u001b[39m-\u001b[39mdatum\u001b[39m.\u001b[39malpha) \u001b[39m/\u001b[39m \u001b[39m2.0\u001b[39m)\n\u001b[1;32m     11\u001b[0m     \u001b[39mexcept\u001b[39;00m RecursionDepthException \u001b[39mas\u001b[39;00m e: \u001b[39m# we get this from recursing too deep -- catch and thus treat \"ret\" as None\u001b[39;00m\n\u001b[1;32m     12\u001b[0m         \u001b[39mreturn\u001b[39;00m \u001b[39m-\u001b[39mInfinity\n",
      "File \u001b[0;32m/opt/miniconda3/envs/iac/lib/python3.10/site-packages/LOTlib3/Hypotheses/LOTHypothesis.py:55\u001b[0m, in \u001b[0;36mLOTHypothesis.__call__\u001b[0;34m(self, *args)\u001b[0m\n\u001b[1;32m     53\u001b[0m \u001b[39mexcept\u001b[39;00m \u001b[39mNameError\u001b[39;00m \u001b[39mas\u001b[39;00m e:\n\u001b[1;32m     54\u001b[0m     \u001b[39mprint\u001b[39m(\u001b[39m\"\u001b[39m\u001b[39mNameError in function call: \u001b[39m\u001b[39m\"\u001b[39m, e, \u001b[39m\"\u001b[39m\u001b[39m ; \u001b[39m\u001b[39m\"\u001b[39m, \u001b[39mstr\u001b[39m(\u001b[39mself\u001b[39m), args)\n\u001b[0;32m---> 55\u001b[0m     \u001b[39mraise\u001b[39;00m \u001b[39mNameError\u001b[39;00m\n",
      "\u001b[0;31mNameError\u001b[0m: "
     ]
    }
   ],
   "source": [
    "class MyHypothesis(BinaryLikelihood, LOTHypothesis):\n",
    "    def __init__(self, grammar=grammar, **kwargs):\n",
    "        LOTHypothesis.__init__(self, grammar=grammar, display='lambda S: %s', **kwargs)\n",
    "\n",
    "\n",
    "h   = MyHypothesis()\n",
    "print('H: {}; prior = {:.4f}; lik = {:.4f}'.format(h, h.compute_prior(), h.compute_likelihood(data)))\n",
    "\n",
    "if False:\n",
    "    top  = TopN(N=10)\n",
    "    thin = 100\n",
    "    for i, h in enumerate(break_ctrlc(MetropolisHastingsSampler(h0, data))):\n",
    "        top << h\n",
    "        if i % thin == 0:\n",
    "            print(\"#\", i, h.posterior_score, h.prior, h.likelihood, qq(h))\n",
    "\n",
    "    for h in top:\n",
    "        print(h.posterior_score, h.prior, h.likelihood, qq(h))"
   ]
  },
  {
   "cell_type": "code",
   "execution_count": null,
   "metadata": {},
   "outputs": [],
   "source": []
  }
 ],
 "metadata": {
  "kernelspec": {
   "display_name": "iac",
   "language": "python",
   "name": "python3"
  },
  "language_info": {
   "codemirror_mode": {
    "name": "ipython",
    "version": 3
   },
   "file_extension": ".py",
   "mimetype": "text/x-python",
   "name": "python",
   "nbconvert_exporter": "python",
   "pygments_lexer": "ipython3",
   "version": "3.10.6"
  },
  "orig_nbformat": 4,
  "vscode": {
   "interpreter": {
    "hash": "b0d92c0f48e14e92ccab483581ae68e0ce8721711bfeacc013e13767dafa3a7c"
   }
  }
 },
 "nbformat": 4,
 "nbformat_minor": 2
}
