{
 "cells": [
  {
   "cell_type": "code",
   "execution_count": 6,
   "metadata": {},
   "outputs": [],
   "source": [
    "import numpy as np, matplotlib.pyplot as plt, itertools"
   ]
  },
  {
   "cell_type": "code",
   "execution_count": null,
   "metadata": {},
   "outputs": [],
   "source": [
    "class Pool(object):\n",
    "    def __init__(self, size, noise=0.0):\n",
    "        self.net = np.zeros(size)\n",
    "        self.act = np.zeros(size)\n",
    "\n",
    "    def clamp(self, a):\n",
    "        # This should make sure that activation of clamped units remains fixed by given value no matter what\n",
    "        self.act = a\n",
    "\n",
    "\n",
    "class Projection(object):\n",
    "    def __init__(self):\n",
    "        pass\n",
    "\n",
    "\n",
    "class Network(object):\n",
    "    def __init__(self, estr, alpha, gamma, pools=[]):\n",
    "        self.estr = estr\n",
    "        self.alpha = alpha\n",
    "        self.gamma = gamma\n",
    "        self.pools = pools\n",
    "        self.econns = {}\n",
    "    \n",
    "    def make_connections(self, default_e=1.0, default_i=-1.0):\n",
    "        # Create a matrix for each pair\n",
    "        if len(self.pools) > 1:\n",
    "            for pair in itertools.combinations(self.pools, 2):\n",
    "                self.econns[pair] = np.full(shape=[pair[0].size, pair[1].size], fill_value=default_e)\n",
    "            for pool in self.pools:\n",
    "                self.iconns[pool] = np.full(shape=[pool.size, pool.size], fill_value=default_i)\n",
    "                np.fill_diagonal(self.iconns[pool], 0)\n",
    "\n",
    "    def reset(self):\n",
    "        pass\n",
    "\n",
    "    def getnet(self):\n",
    "        # FOR EACH POOL\n",
    "        # Accumulate excitatory inputs\n",
    "        for pair, econn in self.econns.items():\n",
    "            pair[0].net += econn.dot(pair[1])\n",
    "            pair[1].net += econn.T.dot(pair[0])\n",
    "            \n",
    "        # Accumulate inhibitory inputs and add noise\n",
    "        for pool, iconn in self.iconns.items():\n",
    "            pool.net = iconn.dot(pool)\n",
    "\n",
    "        # Add noise to scaled external input\n",
    "\n",
    "        # return net input\n",
    "        pass"
   ]
  },
  {
   "cell_type": "code",
   "execution_count": 22,
   "metadata": {},
   "outputs": [
    {
     "name": "stdout",
     "output_type": "stream",
     "text": [
      "[[ 0. -1. -1. -1. -1.]\n",
      " [-1.  0. -1. -1. -1.]\n",
      " [-1. -1.  0. -1. -1.]\n",
      " [-1. -1. -1.  0. -1.]\n",
      " [-1. -1. -1. -1.  0.]]\n"
     ]
    }
   ],
   "source": [
    "a = -np.ones([5, 5])\n",
    "np.fill_diagonal(a, 0)\n",
    "print(a)"
   ]
  },
  {
   "cell_type": "markdown",
   "metadata": {},
   "source": []
  }
 ],
 "metadata": {
  "kernelspec": {
   "display_name": "Python 3.10.6 64-bit",
   "language": "python",
   "name": "python3"
  },
  "language_info": {
   "codemirror_mode": {
    "name": "ipython",
    "version": 3
   },
   "file_extension": ".py",
   "mimetype": "text/x-python",
   "name": "python",
   "nbconvert_exporter": "python",
   "pygments_lexer": "ipython3",
   "version": "3.10.6"
  },
  "orig_nbformat": 4,
  "vscode": {
   "interpreter": {
    "hash": "aee8b7b246df8f9039afb4144a1f6fd8d2ca17a180786b69acc140d282b71a49"
   }
  }
 },
 "nbformat": 4,
 "nbformat_minor": 2
}
