{
 "cells": [
  {
   "cell_type": "code",
   "execution_count": 113,
   "metadata": {},
   "outputs": [],
   "source": [
    "from LOTlib3.Grammar import Grammar\n",
    "from LOTlib3.DefaultGrammars import DNF\n",
    "from math import log\n",
    "from LOTlib3.Hypotheses.LOTHypothesis import LOTHypothesis\n",
    "from LOTlib3.Hypotheses.Likelihoods.BinaryLikelihood import BinaryLikelihood\n",
    "from LOTlib3.DataAndObjects import FunctionData, Obj\n",
    "\n",
    "from LOTlib3 import break_ctrlc\n",
    "from LOTlib3.Miscellaneous import qq\n",
    "from LOTlib3.TopN import TopN\n",
    "from LOTlib3.Samplers.MetropolisHastings import MetropolisHastingsSampler"
   ]
  },
  {
   "attachments": {},
   "cell_type": "markdown",
   "metadata": {},
   "source": [
    "# Generative grammar"
   ]
  },
  {
   "attachments": {},
   "cell_type": "markdown",
   "metadata": {},
   "source": [
    "`grammar.add_rule( <NONTERMINAL>, <FUNCTION>, <ARGUMENTS>, <PROBABILITY>)`\n",
    "\n",
    "Note: non-terminal arguments get passed as normal python arguments. E.g.: \n",
    "\n",
    "```is_color_(OBJECT, 'red') --> OBJECT.color == 'red'```"
   ]
  },
  {
   "cell_type": "code",
   "execution_count": 131,
   "metadata": {},
   "outputs": [
    {
     "name": "stdout",
     "output_type": "stream",
     "text": [
      "-0.693 forall_(lambda y2: False, S)\n",
      "-10.920 forall_(lambda y2: or_(and_(and_(and_(True, is_shape_(y2, 'triangle')), is_size_(y2, 'small')), is_size_(y2, 'big')), or_(True, False)), S)\n",
      "-0.693 forall_(lambda y2: False, S)\n",
      "-4.564 forall_(lambda y2: or_(and_(True, is_size_(y2, 'big')), False), S)\n",
      "-0.693 forall_(lambda y2: False, S)\n",
      "-2.079 forall_(lambda y2: or_(True, False), S)\n",
      "-4.564 forall_(lambda y2: or_(and_(True, is_shape_(y2, 'square')), False), S)\n",
      "-0.693 forall_(lambda y2: False, S)\n",
      "-0.693 forall_(lambda y2: False, S)\n",
      "-2.079 forall_(lambda y2: or_(True, False), S)\n"
     ]
    }
   ],
   "source": [
    "\n",
    "\n",
    "# Define a grammar object\n",
    "grammar = Grammar(start='START')\n",
    "\n",
    "grammar.add_rule('START', '', ['Q'], 1.00) # Quantifier\n",
    "\n",
    "# The following lines are crucial for \"recognizing OBJECTS provided in the data\"\n",
    "grammar.add_rule('Q', 'forall_', ['FUNCTION', 'SET'], 1.00)\n",
    "grammar.add_rule('SET', 'S', None, 1.0)\n",
    "grammar.add_rule('FUNCTION', 'lambda', ['DISJ'], 1.0, bv_type='X')\n",
    "\n",
    "# Logical operations\n",
    "grammar.add_rule('DISJ', 'or_', ['CONJ', 'DISJ'], 1.00)\n",
    "grammar.add_rule('DISJ', 'False', None, 1.00)\n",
    "grammar.add_rule('CONJ', 'and_', ['CONJ', 'P'], 1.00)\n",
    "grammar.add_rule('CONJ', 'True', None, 1.00)\n",
    "\n",
    "# Color\n",
    "grammar.add_rule('P', 'is_color_',  ['X', '\\'red\\''],   1.00) \n",
    "grammar.add_rule('P', 'is_color_',  ['X', '\\'green\\''], 1.00)\n",
    "\n",
    "# Shape\n",
    "grammar.add_rule('P', 'is_shape_',  ['X', '\\'square\\''],   1.00) \n",
    "grammar.add_rule('P', 'is_shape_',  ['X', '\\'triangle\\''], 1.00)\n",
    "\n",
    "# Size\n",
    "grammar.add_rule('P', 'is_size_',  ['X', '\\'big\\''],   1.00) \n",
    "grammar.add_rule('P', 'is_size_',  ['X', '\\'small\\''], 1.00)\n",
    "\n",
    "# Terminals\n",
    "# grammar.add_rule('TRUE', 'True', None, 1.0)\n",
    "# grammar.add_rule('FALSE', 'False', None, 1.0)\n",
    "\n",
    "for _ in range(10):\n",
    "    t = grammar.generate()\n",
    "    print(f'{grammar.log_probability(t):.3f}', t)"
   ]
  },
  {
   "attachments": {},
   "cell_type": "markdown",
   "metadata": {},
   "source": [
    "# Data"
   ]
  },
  {
   "cell_type": "code",
   "execution_count": 133,
   "metadata": {},
   "outputs": [],
   "source": [
    "datum1 = FunctionData(\n",
    "    input=[{Obj(color='red', shape='triangle', size='small')}], \n",
    "    output=True, \n",
    "    alpha=0.99\n",
    ")\n",
    "datum2 = FunctionData(\n",
    "    input=[{Obj(color='green', shape='triangle', size='big')}], \n",
    "    output=False, \n",
    "    alpha=0.99\n",
    ")\n",
    "data = [datum1, datum2]"
   ]
  },
  {
   "attachments": {},
   "cell_type": "markdown",
   "metadata": {},
   "source": [
    "# Inference"
   ]
  },
  {
   "cell_type": "code",
   "execution_count": null,
   "metadata": {},
   "outputs": [],
   "source": [
    "class MyHypothesis(BinaryLikelihood, LOTHypothesis):\n",
    "    def __init__(self, grammar=grammar, **kwargs):\n",
    "        LOTHypothesis.__init__(self, grammar=grammar, display='lambda S: %s', **kwargs)"
   ]
  },
  {
   "attachments": {},
   "cell_type": "markdown",
   "metadata": {},
   "source": [
    "**Two hypotheses**"
   ]
  },
  {
   "cell_type": "code",
   "execution_count": 109,
   "metadata": {},
   "outputs": [
    {
     "name": "stdout",
     "output_type": "stream",
     "text": [
      "• The hypotheses are: \n",
      "\t• lambda S: forall_(lambda y2: is_color_(y2, 'green'), S) (prior = -2.079)\n",
      "\t• lambda S: forall_(lambda y2: is_shape_(y2, 'square'), S) (prior = -2.079)\n",
      "• Given:\n",
      "\t• a positive example: <{<OBJECT: color=red shape=triangle size=small >} -> True>\n",
      "\t• a negative example: <{<OBJECT: color=green shape=triangle size=small >} -> False>\n",
      "• We reason that:\n",
      "\t• the likelihood of h1 (=-10.597) < h2 (=-5.303)\n",
      "• Thus the posterior beliefs are:\n",
      "\t• h1 = -12.676\n",
      "\t• h2 = -7.383\n"
     ]
    }
   ],
   "source": [
    "h1 = MyHypothesis()\n",
    "h2 = MyHypothesis()\n",
    "l1 = h1.compute_likelihood(data)\n",
    "l2 = h2.compute_likelihood(data)\n",
    "gt, lt = '>', '<'\n",
    "print(\n",
    "    f'• The hypotheses are: ',\n",
    "    f'\\t• {h1} (prior = {h1.compute_prior():.3f})',\n",
    "    f'\\t• {h2} (prior = {h2.compute_prior():.3f})',\n",
    "    f'• Given:',\n",
    "    f'\\t• a positive example: {datum1}',\n",
    "    f'\\t• a negative example: {datum2}',\n",
    "    f'• We reason that:',\n",
    "    f'\\t• the likelihood of h1 (={l1:.3f}) {gt if l1 > l2 else lt} h2 (={l2:.3f})',\n",
    "    f'• Thus the posterior beliefs are:',\n",
    "    f'\\t• h1 = {h1.compute_posterior(data):.3f}',\n",
    "    f'\\t• h2 = {h2.compute_posterior(data):.3f}',\n",
    "    sep='\\n'\n",
    ")"
   ]
  },
  {
   "attachments": {},
   "cell_type": "markdown",
   "metadata": {},
   "source": [
    "**MCMC**"
   ]
  },
  {
   "cell_type": "code",
   "execution_count": 134,
   "metadata": {},
   "outputs": [
    {
     "name": "stdout",
     "output_type": "stream",
     "text": [
      "0), post=-11.54, prior=-6.24, lik=-5.30, qq=\"lambda S: forall_(lambda y2: or_(is_shape_(y2, 'triangle'), is_size_(y2, 'small')), S)\"\n",
      "1000), post=-10.41, prior=-10.40, lik=-0.01, qq=\"lambda S: forall_(lambda y2: and_(and_(is_size_(y2, 'small'), is_size_(y2, 'small')), is_color_(y2, 'red')), S)\"\n",
      "2000), post=-2.09, prior=-2.08, lik=-0.01, qq=\"lambda S: forall_(lambda y2: is_size_(y2, 'small'), S)\"\n",
      "3000), post=-2.09, prior=-2.08, lik=-0.01, qq=\"lambda S: forall_(lambda y2: is_color_(y2, 'red'), S)\"\n",
      "4000), post=-2.09, prior=-2.08, lik=-0.01, qq=\"lambda S: forall_(lambda y2: is_size_(y2, 'small'), S)\"\n",
      "5000), post=-2.09, prior=-2.08, lik=-0.01, qq=\"lambda S: forall_(lambda y2: is_color_(y2, 'red'), S)\"\n",
      "6000), post=-2.09, prior=-2.08, lik=-0.01, qq=\"lambda S: forall_(lambda y2: is_size_(y2, 'small'), S)\"\n",
      "7000), post=-6.25, prior=-6.24, lik=-0.01, qq=\"lambda S: forall_(lambda y2: and_(is_size_(y2, 'small'), is_shape_(y2, 'triangle')), S)\"\n",
      "8000), post=-2.09, prior=-2.08, lik=-0.01, qq=\"lambda S: forall_(lambda y2: is_size_(y2, 'small'), S)\"\n",
      "9000), post=-2.09, prior=-2.08, lik=-0.01, qq=\"lambda S: forall_(lambda y2: is_size_(y2, 'small'), S)\"\n",
      "=== WINNERS ===\n",
      "0), post=-6.25, prior=-6.24, lik=-0.01, qq=\"lambda S: forall_(lambda y2: and_(is_shape_(y2, 'triangle'), is_size_(y2, 'small')), S)\"\n",
      "1), post=-6.25, prior=-6.24, lik=-0.01, qq=\"lambda S: forall_(lambda y2: or_(is_size_(y2, 'small'), is_shape_(y2, 'square')), S)\"\n",
      "2), post=-6.25, prior=-6.24, lik=-0.01, qq=\"lambda S: forall_(lambda y2: or_(is_size_(y2, 'small'), is_color_(y2, 'red')), S)\"\n",
      "3), post=-6.25, prior=-6.24, lik=-0.01, qq=\"lambda S: forall_(lambda y2: or_(is_color_(y2, 'red'), is_color_(y2, 'red')), S)\"\n",
      "4), post=-6.25, prior=-6.24, lik=-0.01, qq=\"lambda S: forall_(lambda y2: and_(is_size_(y2, 'small'), is_shape_(y2, 'triangle')), S)\"\n",
      "5), post=-6.25, prior=-6.24, lik=-0.01, qq=\"lambda S: forall_(lambda y2: or_(is_color_(y2, 'red'), is_size_(y2, 'small')), S)\"\n",
      "6), post=-6.25, prior=-6.24, lik=-0.01, qq=\"lambda S: forall_(lambda y2: or_(is_shape_(y2, 'square'), is_color_(y2, 'red')), S)\"\n",
      "7), post=-6.25, prior=-6.24, lik=-0.01, qq=\"lambda S: forall_(lambda y2: or_(is_color_(y2, 'red'), is_shape_(y2, 'square')), S)\"\n",
      "8), post=-2.09, prior=-2.08, lik=-0.01, qq=\"lambda S: forall_(lambda y2: is_size_(y2, 'small'), S)\"\n",
      "9), post=-2.09, prior=-2.08, lik=-0.01, qq=\"lambda S: forall_(lambda y2: is_color_(y2, 'red'), S)\"\n"
     ]
    }
   ],
   "source": [
    "h0 = MyHypothesis()\n",
    "\n",
    "top  = TopN(N=10)\n",
    "thin = 1_000\n",
    "for i, h in enumerate(break_ctrlc(MetropolisHastingsSampler(h0, data, steps=100_000))):\n",
    "    top << h\n",
    "    if i % thin == 0:\n",
    "        print(f'{i}), post={h.posterior_score:.2f}, prior={h.prior:.2f}, lik={h.likelihood:.2f}, qq={qq(h)}')\n",
    "\n",
    "\n",
    "print('=== WINNERS ===')\n",
    "for i, h in enumerate(top):\n",
    "    print(f'{i}), post={h.posterior_score:.2f}, prior={h.prior:.2f}, lik={h.likelihood:.2f}, qq={qq(h)}')"
   ]
  },
  {
   "cell_type": "code",
   "execution_count": null,
   "metadata": {},
   "outputs": [],
   "source": []
  }
 ],
 "metadata": {
  "kernelspec": {
   "display_name": "iac",
   "language": "python",
   "name": "python3"
  },
  "language_info": {
   "codemirror_mode": {
    "name": "ipython",
    "version": 3
   },
   "file_extension": ".py",
   "mimetype": "text/x-python",
   "name": "python",
   "nbconvert_exporter": "python",
   "pygments_lexer": "ipython3",
   "version": "3.10.6"
  },
  "orig_nbformat": 4,
  "vscode": {
   "interpreter": {
    "hash": "b0d92c0f48e14e92ccab483581ae68e0ce8721711bfeacc013e13767dafa3a7c"
   }
  }
 },
 "nbformat": 4,
 "nbformat_minor": 2
}
