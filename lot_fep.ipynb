{
 "cells": [
  {
   "attachments": {},
   "cell_type": "markdown",
   "metadata": {},
   "source": [
    "# Monster task model"
   ]
  },
  {
   "cell_type": "code",
   "execution_count": 20,
   "metadata": {},
   "outputs": [],
   "source": [
    "from LOTlib3.Grammar import Grammar\n",
    "from LOTlib3.DefaultGrammars import DNF\n",
    "from math import log\n",
    "from LOTlib3.Hypotheses.LOTHypothesis import LOTHypothesis\n",
    "from LOTlib3.Hypotheses.Likelihoods.BinaryLikelihood import BinaryLikelihood\n",
    "from LOTlib3.DataAndObjects import FunctionData, Obj\n",
    "from LOTlib3.Eval import primitive\n",
    "\n",
    "\n",
    "from LOTlib3 import break_ctrlc\n",
    "from LOTlib3.Miscellaneous import qq\n",
    "from LOTlib3.TopN import TopN\n",
    "from LOTlib3.Samplers.MetropolisHastings import MetropolisHastingsSampler"
   ]
  },
  {
   "attachments": {},
   "cell_type": "markdown",
   "metadata": {},
   "source": [
    "# Generative grammar"
   ]
  },
  {
   "attachments": {},
   "cell_type": "markdown",
   "metadata": {},
   "source": [
    "`grammar.add_rule( <NONTERMINAL>, <FUNCTION>, <ARGUMENTS>, <PROBABILITY>)`\n",
    "\n",
    "Note: non-terminal arguments get passed as normal python arguments. E.g.: \n",
    "\n",
    "`is_color_(OBJECT, 'red')` $\\rightarrow$ `OBJECT.color == 'red'`"
   ]
  },
  {
   "cell_type": "code",
   "execution_count": 257,
   "metadata": {},
   "outputs": [
    {
     "name": "stdout",
     "output_type": "stream",
     "text": [
      "-45.761 forall_(lambda y2: or_(and_(and_(and_(and_(True, fle_(y2, 'F0', 1)), fle_(y2, 'F0', 4)), fequal_(y2, 'F0', 1)), fle_(y2, 'F0', 6)), or_(and_(True, fequal_(y2, 'F0', 5)), or_(and_(and_(and_(True, fle_(y2, 'F0', 2)), fequal_(y2, 'F0', 5)), fle_(y2, 'F0', 4)), or_(True, or_(and_(and_(and_(and_(True, fequal_(y2, 'F0', 4)), fequal_(y2, 'F0', 6)), fequal_(y2, 'F0', 6)), fle_(y2, 'F0', 3)), False))))), S)\n",
      "-0.693 forall_(lambda y2: False, S)\n",
      "-0.693 forall_(lambda y2: False, S)\n",
      "-3.466 forall_(lambda y2: or_(True, or_(True, False)), S)\n",
      "-11.208 forall_(lambda y2: or_(and_(and_(True, fle_(y2, 'F0', 4)), fle_(y2, 'F0', 4)), or_(True, or_(True, False))), S)\n",
      "-13.981 forall_(lambda y2: or_(True, or_(True, or_(and_(and_(True, fle_(y2, 'F0', 1)), fle_(y2, 'F0', 3)), or_(True, or_(True, False))))), S)\n",
      "-26.693 forall_(lambda y2: or_(True, or_(and_(and_(and_(and_(True, fequal_(y2, 'F0', 3)), fequal_(y2, 'F0', 3)), fle_(y2, 'F0', 4)), fle_(y2, 'F0', 5)), or_(True, or_(and_(and_(True, fle_(y2, 'F0', 2)), fle_(y2, 'F0', 6)), or_(True, False))))), S)\n",
      "-0.693 forall_(lambda y2: False, S)\n",
      "-11.614 forall_(lambda y2: or_(and_(and_(and_(True, fequal_(y2, 'F0', 2)), fle_(y2, 'F0', 2)), fequal_(y2, 'F0', 3)), False), S)\n",
      "-8.030 forall_(lambda y2: or_(True, or_(and_(True, fle_(y2, 'F0', 4)), or_(True, False))), S)\n"
     ]
    }
   ],
   "source": [
    "@primitive\n",
    "def fequal_(x, f, y):\n",
    "    return getattr(x, f) == int(y)\n",
    "\n",
    "\n",
    "@primitive\n",
    "def fle_(x, f, y):\n",
    "    return getattr(x, (f)) < int(y)\n",
    "\n",
    "\n",
    "ndims = 1\n",
    "\n",
    "# Define a grammar object\n",
    "grammar = Grammar(start='START')\n",
    "\n",
    "grammar.add_rule('START', '', ['Q'], 1.0) # Quantifier\n",
    "\n",
    "# The following lines are crucial for \"recognizing OBJECTS provided in the data\"\n",
    "grammar.add_rule('Q', 'forall_', ['FUNCTION', 'SET'], 1.0)\n",
    "grammar.add_rule('SET', 'S', None, 1.0)\n",
    "grammar.add_rule('FUNCTION', 'lambda', ['DISJ'], 1.0, bv_type='X')\n",
    "\n",
    "# Logical operations\n",
    "grammar.add_rule('DISJ', 'or_', ['CONJ', 'DISJ'], 1.0)\n",
    "grammar.add_rule('DISJ', 'False', None, 1.0)\n",
    "grammar.add_rule('CONJ', 'and_', ['CONJ', 'P'], 1.0)\n",
    "grammar.add_rule('CONJ', 'True', None, 1.0)\n",
    "\n",
    "# Predicate becomes feature predicate\n",
    "grammar.add_rule('P', '', ['FP'], 1.0)\n",
    "\n",
    "\n",
    "for v in range(1, 7):\n",
    "    grammar.add_rule('FP', 'fequal_', ['X', 'F', str(v)], 1.0)\n",
    "    grammar.add_rule('FP', 'fle_', ['X', 'F', str(v)], 1.0)\n",
    "grammar.add_rule('F', '\\'F0\\'', None, 1.0)\n",
    "\n",
    "# Boundary rules\n",
    "# grammar.add_rule('P', 'is_color_',  ['X', '\\'red\\''],   1.0) \n",
    "\n",
    "\n",
    "\n",
    "# Terminals\n",
    "# grammar.add_rule('TRUE', 'True', None, 1.0)\n",
    "# grammar.add_rule('FALSE', 'False', None, 1.0)\n",
    "\n",
    "for _ in range(10):\n",
    "    t = grammar.generate()\n",
    "    print(f'{grammar.log_probability(t):.3f}', t)"
   ]
  },
  {
   "attachments": {},
   "cell_type": "markdown",
   "metadata": {},
   "source": [
    "# Data"
   ]
  },
  {
   "cell_type": "code",
   "execution_count": 258,
   "metadata": {},
   "outputs": [
    {
     "name": "stdout",
     "output_type": "stream",
     "text": [
      "<{s[1]} -> True>\n",
      "<{s[2]} -> True>\n",
      "<{s[3]} -> True>\n",
      "<{s[4]} -> False>\n",
      "<{s[5]} -> False>\n",
      "<{s[6]} -> False>\n"
     ]
    }
   ],
   "source": [
    "# datum1 = FunctionData(input=[('1', '1')], output=True, alpha=0.99)\n",
    "# datum2 = FunctionData(input=[('6', '6')], output=False, alpha=0.99)\n",
    "# data = [datum1, datum2]\n",
    "\n",
    "class stim1d(object):\n",
    "    def __init__(self, F0):\n",
    "        self.F0 = F0\n",
    "\n",
    "    def __repr__(self):\n",
    "        return f's[{self.F0}]'\n",
    "\n",
    "# print(datum1)\n",
    "# print(datum2)\n",
    "# datum1 = FunctionData(input=[{Obj(F0=1)}], output=True, alpha=0.99)\n",
    "# datum2 = FunctionData(input=[{Obj(F0=6)}], output=False, alpha=0.99)\n",
    "datum1 = FunctionData(input=[{stim1d(F0=1)}], output=True, alpha=0.99)\n",
    "datum2 = FunctionData(input=[{stim1d(F0=2)}], output=True, alpha=0.99)\n",
    "datum3 = FunctionData(input=[{stim1d(F0=3)}], output=True, alpha=0.99)\n",
    "datum4 = FunctionData(input=[{stim1d(F0=4)}], output=False, alpha=0.99)\n",
    "datum5 = FunctionData(input=[{stim1d(F0=5)}], output=False, alpha=0.99)\n",
    "datum6 = FunctionData(input=[{stim1d(F0=6)}], output=False, alpha=0.99)\n",
    "data = [datum1, datum2, datum3, datum4, datum5, datum6]\n",
    "\n",
    "print(datum1)\n",
    "print(datum2)\n",
    "print(datum3)\n",
    "print(datum4)\n",
    "print(datum5)\n",
    "print(datum6)\n"
   ]
  },
  {
   "attachments": {},
   "cell_type": "markdown",
   "metadata": {},
   "source": [
    "# Inference"
   ]
  },
  {
   "cell_type": "code",
   "execution_count": 259,
   "metadata": {},
   "outputs": [],
   "source": [
    "class MyHypothesis(BinaryLikelihood, LOTHypothesis):\n",
    "    def __init__(self, grammar=grammar, **kwargs):\n",
    "        LOTHypothesis.__init__(self, grammar=grammar, display='lambda S: %s', **kwargs)"
   ]
  },
  {
   "attachments": {},
   "cell_type": "markdown",
   "metadata": {},
   "source": [
    "**Two hypotheses**"
   ]
  },
  {
   "cell_type": "code",
   "execution_count": 260,
   "metadata": {},
   "outputs": [
    {
     "ename": "TooBigException",
     "evalue": "",
     "output_type": "error",
     "traceback": [
      "\u001b[0;31m---------------------------------------------------------------------------\u001b[0m",
      "\u001b[0;31mTooBigException\u001b[0m                           Traceback (most recent call last)",
      "\u001b[1;32m/Users/alexten/Projects/fep_model/lot_fep.ipynb Cell 11\u001b[0m in \u001b[0;36m<cell line: 4>\u001b[0;34m()\u001b[0m\n\u001b[1;32m      <a href='vscode-notebook-cell:/Users/alexten/Projects/fep_model/lot_fep.ipynb#X11sZmlsZQ%3D%3D?line=0'>1</a>\u001b[0m h1 \u001b[39m=\u001b[39m MyHypothesis()\n\u001b[1;32m      <a href='vscode-notebook-cell:/Users/alexten/Projects/fep_model/lot_fep.ipynb#X11sZmlsZQ%3D%3D?line=1'>2</a>\u001b[0m h2 \u001b[39m=\u001b[39m MyHypothesis()\n\u001b[1;32m      <a href='vscode-notebook-cell:/Users/alexten/Projects/fep_model/lot_fep.ipynb#X11sZmlsZQ%3D%3D?line=3'>4</a>\u001b[0m \u001b[39mprint\u001b[39m(\n\u001b[1;32m      <a href='vscode-notebook-cell:/Users/alexten/Projects/fep_model/lot_fep.ipynb#X11sZmlsZQ%3D%3D?line=4'>5</a>\u001b[0m     \u001b[39mf\u001b[39m\u001b[39m'\u001b[39m\u001b[39m• The hypotheses are: \u001b[39m\u001b[39m'\u001b[39m,\n\u001b[1;32m      <a href='vscode-notebook-cell:/Users/alexten/Projects/fep_model/lot_fep.ipynb#X11sZmlsZQ%3D%3D?line=5'>6</a>\u001b[0m     \u001b[39mf\u001b[39m\u001b[39m'\u001b[39m\u001b[39m\\t\u001b[39;00m\u001b[39m• \u001b[39m\u001b[39m{\u001b[39;00mh1\u001b[39m}\u001b[39;00m\u001b[39m (prior = \u001b[39m\u001b[39m{\u001b[39;00mh1\u001b[39m.\u001b[39mcompute_prior()\u001b[39m:\u001b[39;00m\u001b[39m.3f\u001b[39m\u001b[39m}\u001b[39;00m\u001b[39m)\u001b[39m\u001b[39m'\u001b[39m,\n\u001b[1;32m      <a href='vscode-notebook-cell:/Users/alexten/Projects/fep_model/lot_fep.ipynb#X11sZmlsZQ%3D%3D?line=6'>7</a>\u001b[0m     \u001b[39mf\u001b[39m\u001b[39m'\u001b[39m\u001b[39m\\t\u001b[39;00m\u001b[39m• \u001b[39m\u001b[39m{\u001b[39;00mh2\u001b[39m}\u001b[39;00m\u001b[39m (prior = \u001b[39m\u001b[39m{\u001b[39;00mh2\u001b[39m.\u001b[39mcompute_prior()\u001b[39m:\u001b[39;00m\u001b[39m.3f\u001b[39m\u001b[39m}\u001b[39;00m\u001b[39m)\u001b[39m\u001b[39m'\u001b[39m,\n\u001b[1;32m      <a href='vscode-notebook-cell:/Users/alexten/Projects/fep_model/lot_fep.ipynb#X11sZmlsZQ%3D%3D?line=7'>8</a>\u001b[0m     \u001b[39mf\u001b[39m\u001b[39m'\u001b[39m\u001b[39m• Given:\u001b[39m\u001b[39m'\u001b[39m,\n\u001b[1;32m      <a href='vscode-notebook-cell:/Users/alexten/Projects/fep_model/lot_fep.ipynb#X11sZmlsZQ%3D%3D?line=8'>9</a>\u001b[0m     \u001b[39mf\u001b[39m\u001b[39m'\u001b[39m\u001b[39m\\t\u001b[39;00m\u001b[39m• a positive example: \u001b[39m\u001b[39m{\u001b[39;00mdatum1\u001b[39m}\u001b[39;00m\u001b[39m'\u001b[39m,\n\u001b[1;32m     <a href='vscode-notebook-cell:/Users/alexten/Projects/fep_model/lot_fep.ipynb#X11sZmlsZQ%3D%3D?line=9'>10</a>\u001b[0m     \u001b[39mf\u001b[39m\u001b[39m'\u001b[39m\u001b[39m\\t\u001b[39;00m\u001b[39m• a negative example: \u001b[39m\u001b[39m{\u001b[39;00mdatum2\u001b[39m}\u001b[39;00m\u001b[39m'\u001b[39m,\n\u001b[1;32m     <a href='vscode-notebook-cell:/Users/alexten/Projects/fep_model/lot_fep.ipynb#X11sZmlsZQ%3D%3D?line=10'>11</a>\u001b[0m     \u001b[39mf\u001b[39m\u001b[39m'\u001b[39m\u001b[39m• The likelihood of h1 (=\u001b[39m\u001b[39m{\u001b[39;00mh1\u001b[39m.\u001b[39mcompute_likelihood(data)\u001b[39m:\u001b[39;00m\u001b[39m.3f\u001b[39m\u001b[39m}\u001b[39;00m\u001b[39m)\u001b[39m\u001b[39m'\u001b[39m,\n\u001b[0;32m---> <a href='vscode-notebook-cell:/Users/alexten/Projects/fep_model/lot_fep.ipynb#X11sZmlsZQ%3D%3D?line=11'>12</a>\u001b[0m     \u001b[39mf\u001b[39m\u001b[39m'\u001b[39m\u001b[39m• The likelihood of h2 (=\u001b[39m\u001b[39m{\u001b[39;00mh2\u001b[39m.\u001b[39mcompute_likelihood(data)\u001b[39m:\u001b[39;00m\u001b[39m.3f\u001b[39m\u001b[39m}\u001b[39;00m\u001b[39m)\u001b[39m\u001b[39m'\u001b[39m,\n\u001b[1;32m     <a href='vscode-notebook-cell:/Users/alexten/Projects/fep_model/lot_fep.ipynb#X11sZmlsZQ%3D%3D?line=12'>13</a>\u001b[0m     \u001b[39mf\u001b[39m\u001b[39m'\u001b[39m\u001b[39m• Thus the posterior beliefs are:\u001b[39m\u001b[39m'\u001b[39m,\n\u001b[1;32m     <a href='vscode-notebook-cell:/Users/alexten/Projects/fep_model/lot_fep.ipynb#X11sZmlsZQ%3D%3D?line=13'>14</a>\u001b[0m     \u001b[39mf\u001b[39m\u001b[39m'\u001b[39m\u001b[39m\\t\u001b[39;00m\u001b[39m• h1 = \u001b[39m\u001b[39m{\u001b[39;00mh1\u001b[39m.\u001b[39mcompute_posterior(data)\u001b[39m:\u001b[39;00m\u001b[39m.3f\u001b[39m\u001b[39m}\u001b[39;00m\u001b[39m'\u001b[39m,\n\u001b[1;32m     <a href='vscode-notebook-cell:/Users/alexten/Projects/fep_model/lot_fep.ipynb#X11sZmlsZQ%3D%3D?line=14'>15</a>\u001b[0m     \u001b[39mf\u001b[39m\u001b[39m'\u001b[39m\u001b[39m\\t\u001b[39;00m\u001b[39m• h2 = \u001b[39m\u001b[39m{\u001b[39;00mh2\u001b[39m.\u001b[39mcompute_posterior(data)\u001b[39m:\u001b[39;00m\u001b[39m.3f\u001b[39m\u001b[39m}\u001b[39;00m\u001b[39m'\u001b[39m,\n\u001b[1;32m     <a href='vscode-notebook-cell:/Users/alexten/Projects/fep_model/lot_fep.ipynb#X11sZmlsZQ%3D%3D?line=15'>16</a>\u001b[0m     sep\u001b[39m=\u001b[39m\u001b[39m'\u001b[39m\u001b[39m\\n\u001b[39;00m\u001b[39m'\u001b[39m\n\u001b[1;32m     <a href='vscode-notebook-cell:/Users/alexten/Projects/fep_model/lot_fep.ipynb#X11sZmlsZQ%3D%3D?line=16'>17</a>\u001b[0m )\n",
      "File \u001b[0;32m/opt/miniconda3/envs/iac/lib/python3.10/site-packages/LOTlib3/Miscellaneous.py:592\u001b[0m, in \u001b[0;36mattrmem.<locals>.wrap1.<locals>.wrap2\u001b[0;34m(self, *args, **kwargs)\u001b[0m\n\u001b[1;32m    591\u001b[0m \u001b[39mdef\u001b[39;00m \u001b[39mwrap2\u001b[39m(\u001b[39mself\u001b[39m, \u001b[39m*\u001b[39margs, \u001b[39m*\u001b[39m\u001b[39m*\u001b[39mkwargs):\n\u001b[0;32m--> 592\u001b[0m     v \u001b[39m=\u001b[39m f(\u001b[39mself\u001b[39;49m, \u001b[39m*\u001b[39;49margs, \u001b[39m*\u001b[39;49m\u001b[39m*\u001b[39;49mkwargs)\n\u001b[1;32m    593\u001b[0m     \u001b[39msetattr\u001b[39m(\u001b[39mself\u001b[39m, aname, v)\n\u001b[1;32m    594\u001b[0m     \u001b[39mreturn\u001b[39;00m v\n",
      "File \u001b[0;32m/opt/miniconda3/envs/iac/lib/python3.10/site-packages/LOTlib3/Hypotheses/Hypothesis.py:102\u001b[0m, in \u001b[0;36mHypothesis.compute_likelihood\u001b[0;34m(self, data, shortcut, **kwargs)\u001b[0m\n\u001b[1;32m    100\u001b[0m ll \u001b[39m=\u001b[39m \u001b[39m0.0\u001b[39m\n\u001b[1;32m    101\u001b[0m \u001b[39mfor\u001b[39;00m datum \u001b[39min\u001b[39;00m data:\n\u001b[0;32m--> 102\u001b[0m     ll \u001b[39m+\u001b[39m\u001b[39m=\u001b[39m \u001b[39mself\u001b[39;49m\u001b[39m.\u001b[39;49mcompute_single_likelihood(datum, \u001b[39m*\u001b[39;49m\u001b[39m*\u001b[39;49mkwargs) \u001b[39m/\u001b[39m \u001b[39mself\u001b[39m\u001b[39m.\u001b[39mlikelihood_temperature\n\u001b[1;32m    103\u001b[0m     \u001b[39mif\u001b[39;00m ll \u001b[39m<\u001b[39m shortcut:\n\u001b[1;32m    104\u001b[0m         \u001b[39m# print \"** Shortcut\", self\u001b[39;00m\n\u001b[1;32m    105\u001b[0m         \u001b[39mreturn\u001b[39;00m \u001b[39m-\u001b[39mInfinity\n",
      "File \u001b[0;32m/opt/miniconda3/envs/iac/lib/python3.10/site-packages/LOTlib3/Hypotheses/Likelihoods/BinaryLikelihood.py:10\u001b[0m, in \u001b[0;36mBinaryLikelihood.compute_single_likelihood\u001b[0;34m(self, datum)\u001b[0m\n\u001b[1;32m      8\u001b[0m \u001b[39mdef\u001b[39;00m \u001b[39mcompute_single_likelihood\u001b[39m(\u001b[39mself\u001b[39m, datum):\n\u001b[1;32m      9\u001b[0m     \u001b[39mtry\u001b[39;00m:\n\u001b[0;32m---> 10\u001b[0m         \u001b[39mreturn\u001b[39;00m log(datum\u001b[39m.\u001b[39malpha \u001b[39m*\u001b[39m (\u001b[39mself\u001b[39;49m(\u001b[39m*\u001b[39;49mdatum\u001b[39m.\u001b[39;49minput) \u001b[39m==\u001b[39m datum\u001b[39m.\u001b[39moutput) \u001b[39m+\u001b[39m (\u001b[39m1.0\u001b[39m\u001b[39m-\u001b[39mdatum\u001b[39m.\u001b[39malpha) \u001b[39m/\u001b[39m \u001b[39m2.0\u001b[39m)\n\u001b[1;32m     11\u001b[0m     \u001b[39mexcept\u001b[39;00m RecursionDepthException \u001b[39mas\u001b[39;00m e: \u001b[39m# we get this from recursing too deep -- catch and thus treat \"ret\" as None\u001b[39;00m\n\u001b[1;32m     12\u001b[0m         \u001b[39mreturn\u001b[39;00m \u001b[39m-\u001b[39mInfinity\n",
      "File \u001b[0;32m/opt/miniconda3/envs/iac/lib/python3.10/site-packages/LOTlib3/Hypotheses/LOTHypothesis.py:49\u001b[0m, in \u001b[0;36mLOTHypothesis.__call__\u001b[0;34m(self, *args)\u001b[0m\n\u001b[1;32m     46\u001b[0m \u001b[39mdef\u001b[39;00m \u001b[39m__call__\u001b[39m(\u001b[39mself\u001b[39m, \u001b[39m*\u001b[39margs):\n\u001b[1;32m     47\u001b[0m     \u001b[39m# NOTE: This no longer catches all exceptions.\u001b[39;00m\n\u001b[1;32m     48\u001b[0m     \u001b[39mtry\u001b[39;00m:\n\u001b[0;32m---> 49\u001b[0m         \u001b[39mreturn\u001b[39;00m FunctionHypothesis\u001b[39m.\u001b[39;49m\u001b[39m__call__\u001b[39;49m(\u001b[39mself\u001b[39;49m, \u001b[39m*\u001b[39;49margs)\n\u001b[1;32m     50\u001b[0m     \u001b[39mexcept\u001b[39;00m \u001b[39mTypeError\u001b[39;00m \u001b[39mas\u001b[39;00m e:\n\u001b[1;32m     51\u001b[0m         \u001b[39mprint\u001b[39m(\u001b[39m\"\u001b[39m\u001b[39mTypeError in function call: \u001b[39m\u001b[39m\"\u001b[39m, e, \u001b[39mstr\u001b[39m(\u001b[39mself\u001b[39m), \u001b[39m\"\u001b[39m\u001b[39m  ;  \u001b[39m\u001b[39m\"\u001b[39m, \u001b[39mtype\u001b[39m(\u001b[39mself\u001b[39m), args)\n",
      "File \u001b[0;32m/opt/miniconda3/envs/iac/lib/python3.10/site-packages/LOTlib3/Hypotheses/FunctionHypothesis.py:38\u001b[0m, in \u001b[0;36mFunctionHypothesis.__call__\u001b[0;34m(self, *vals)\u001b[0m\n\u001b[1;32m     32\u001b[0m \u001b[39mdef\u001b[39;00m \u001b[39m__call__\u001b[39m(\u001b[39mself\u001b[39m, \u001b[39m*\u001b[39mvals):\n\u001b[1;32m     33\u001b[0m \n\u001b[1;32m     34\u001b[0m     \u001b[39m# The below assertions are useful but VERY slow\u001b[39;00m\n\u001b[1;32m     35\u001b[0m     \u001b[39m#assert not any([isinstance(x, FunctionData) for x in vals]), \"*** Probably you mean to pass FunctionData.input instead of FunctionData?\"\u001b[39;00m\n\u001b[1;32m     36\u001b[0m     \u001b[39m#assert callable(self.fvalue)\u001b[39;00m\n\u001b[0;32m---> 38\u001b[0m     \u001b[39mreturn\u001b[39;00m \u001b[39mself\u001b[39;49m\u001b[39m.\u001b[39;49mfvalue(\u001b[39m*\u001b[39;49mvals)\n",
      "File \u001b[0;32m/opt/miniconda3/envs/iac/lib/python3.10/site-packages/LOTlib3/Hypotheses/LOTHypothesis.py:63\u001b[0m, in \u001b[0;36mLOTHypothesis.compile_function.<locals>.<lambda>\u001b[0;34m(*args)\u001b[0m\n\u001b[1;32m     61\u001b[0m \u001b[39m\"\"\"Called in set_value to compile into a function.\"\"\"\u001b[39;00m\n\u001b[1;32m     62\u001b[0m \u001b[39mif\u001b[39;00m \u001b[39mself\u001b[39m\u001b[39m.\u001b[39mvalue\u001b[39m.\u001b[39mcount_nodes() \u001b[39m>\u001b[39m \u001b[39mself\u001b[39m\u001b[39m.\u001b[39mmaxnodes:\n\u001b[0;32m---> 63\u001b[0m     \u001b[39mreturn\u001b[39;00m \u001b[39mlambda\u001b[39;00m \u001b[39m*\u001b[39margs: raise_exception(TooBigException)\n\u001b[1;32m     64\u001b[0m \u001b[39melse\u001b[39;00m:\n\u001b[1;32m     65\u001b[0m     \u001b[39mtry\u001b[39;00m:\n",
      "File \u001b[0;32m/opt/miniconda3/envs/iac/lib/python3.10/site-packages/LOTlib3/Primitives/Functional.py:19\u001b[0m, in \u001b[0;36mraise_exception\u001b[0;34m(e)\u001b[0m\n\u001b[1;32m     17\u001b[0m \u001b[39m@primitive\u001b[39m\n\u001b[1;32m     18\u001b[0m \u001b[39mdef\u001b[39;00m \u001b[39mraise_exception\u001b[39m(e):\n\u001b[0;32m---> 19\u001b[0m     \u001b[39mraise\u001b[39;00m e\n",
      "\u001b[0;31mTooBigException\u001b[0m: "
     ]
    }
   ],
   "source": [
    "h1 = MyHypothesis()\n",
    "h2 = MyHypothesis()\n",
    "\n",
    "print(\n",
    "    f'• The hypotheses are: ',\n",
    "    f'\\t• {h1} (prior = {h1.compute_prior():.3f})',\n",
    "    f'\\t• {h2} (prior = {h2.compute_prior():.3f})',\n",
    "    f'• Given:',\n",
    "    f'\\t• a positive example: {datum1}',\n",
    "    f'\\t• a negative example: {datum2}',\n",
    "    f'• The likelihood of h1 (={h1.compute_likelihood(data):.3f})',\n",
    "    f'• The likelihood of h2 (={h2.compute_likelihood(data):.3f})',\n",
    "    f'• Thus the posterior beliefs are:',\n",
    "    f'\\t• h1 = {h1.compute_posterior(data):.3f}',\n",
    "    f'\\t• h2 = {h2.compute_posterior(data):.3f}',\n",
    "    sep='\\n'\n",
    ")"
   ]
  },
  {
   "attachments": {},
   "cell_type": "markdown",
   "metadata": {},
   "source": [
    "**MCMC**"
   ]
  },
  {
   "cell_type": "code",
   "execution_count": 261,
   "metadata": {},
   "outputs": [
    {
     "name": "stdout",
     "output_type": "stream",
     "text": [
      "0), post=-17.99, prior=-2.08, lik=-15.91, qq=\"lambda S: forall_(lambda y2: or_(True, False), S)\"\n",
      "100), post=-5.29, prior=-5.26, lik=-0.03, qq=\"lambda S: forall_(lambda y2: or_(and_(True, fle_(y2, 'F0', 4)), False), S)\"\n",
      "200), post=-5.29, prior=-5.26, lik=-0.03, qq=\"lambda S: forall_(lambda y2: or_(and_(True, fle_(y2, 'F0', 4)), False), S)\"\n",
      "300), post=-5.29, prior=-5.26, lik=-0.03, qq=\"lambda S: forall_(lambda y2: or_(and_(True, fle_(y2, 'F0', 4)), False), S)\"\n",
      "400), post=-5.29, prior=-5.26, lik=-0.03, qq=\"lambda S: forall_(lambda y2: or_(and_(True, fle_(y2, 'F0', 4)), False), S)\"\n",
      "500), post=-5.29, prior=-5.26, lik=-0.03, qq=\"lambda S: forall_(lambda y2: or_(and_(True, fle_(y2, 'F0', 4)), False), S)\"\n",
      "600), post=-5.29, prior=-5.26, lik=-0.03, qq=\"lambda S: forall_(lambda y2: or_(and_(True, fle_(y2, 'F0', 4)), False), S)\"\n",
      "700), post=-5.29, prior=-5.26, lik=-0.03, qq=\"lambda S: forall_(lambda y2: or_(and_(True, fle_(y2, 'F0', 4)), False), S)\"\n",
      "800), post=-5.29, prior=-5.26, lik=-0.03, qq=\"lambda S: forall_(lambda y2: or_(and_(True, fle_(y2, 'F0', 4)), False), S)\"\n",
      "900), post=-8.47, prior=-8.44, lik=-0.03, qq=\"lambda S: forall_(lambda y2: or_(and_(and_(True, fle_(y2, 'F0', 6)), fle_(y2, 'F0', 4)), False), S)\"\n",
      "=== WINNERS ===\n",
      "0), post=-13.03, prior=-13.00, lik=-0.03, qq=\"lambda S: forall_(lambda y2: or_(and_(True, fle_(y2, 'F0', 4)), or_(and_(and_(True, fle_(y2, 'F0', 5)), fle_(y2, 'F0', 1)), False)), S)\"\n",
      "1), post=-9.85, prior=-9.82, lik=-0.03, qq=\"lambda S: forall_(lambda y2: or_(and_(True, fle_(y2, 'F0', 4)), or_(and_(True, fle_(y2, 'F0', 4)), False)), S)\"\n",
      "2), post=-9.85, prior=-9.82, lik=-0.03, qq=\"lambda S: forall_(lambda y2: or_(and_(True, fle_(y2, 'F0', 1)), or_(and_(True, fle_(y2, 'F0', 4)), False)), S)\"\n",
      "3), post=-9.85, prior=-9.82, lik=-0.03, qq=\"lambda S: forall_(lambda y2: or_(and_(True, fle_(y2, 'F0', 3)), or_(and_(True, fequal_(y2, 'F0', 3)), False)), S)\"\n",
      "4), post=-9.85, prior=-9.82, lik=-0.03, qq=\"lambda S: forall_(lambda y2: or_(and_(True, fle_(y2, 'F0', 4)), or_(and_(True, fequal_(y2, 'F0', 3)), False)), S)\"\n",
      "5), post=-9.85, prior=-9.82, lik=-0.03, qq=\"lambda S: forall_(lambda y2: or_(and_(True, fle_(y2, 'F0', 3)), or_(and_(True, fle_(y2, 'F0', 4)), False)), S)\"\n",
      "6), post=-9.85, prior=-9.82, lik=-0.03, qq=\"lambda S: forall_(lambda y2: or_(and_(True, fle_(y2, 'F0', 4)), or_(and_(True, fle_(y2, 'F0', 2)), False)), S)\"\n",
      "7), post=-8.47, prior=-8.44, lik=-0.03, qq=\"lambda S: forall_(lambda y2: or_(and_(and_(True, fle_(y2, 'F0', 5)), fle_(y2, 'F0', 4)), False), S)\"\n",
      "8), post=-8.47, prior=-8.44, lik=-0.03, qq=\"lambda S: forall_(lambda y2: or_(and_(and_(True, fle_(y2, 'F0', 6)), fle_(y2, 'F0', 4)), False), S)\"\n",
      "9), post=-5.29, prior=-5.26, lik=-0.03, qq=\"lambda S: forall_(lambda y2: or_(and_(True, fle_(y2, 'F0', 4)), False), S)\"\n"
     ]
    }
   ],
   "source": [
    "h0 = MyHypothesis()\n",
    "\n",
    "top  = TopN(N=10)\n",
    "thin = 100\n",
    "for i, h in enumerate(break_ctrlc(MetropolisHastingsSampler(h0, data, steps=1000))):\n",
    "    top << h\n",
    "    if i % thin == 0:\n",
    "        print(f'{i}), post={h.posterior_score:.2f}, prior={h.prior:.2f}, lik={h.likelihood:.2f}, qq={qq(h)}')\n",
    "\n",
    "\n",
    "print('=== WINNERS ===')\n",
    "for i, h in enumerate(top):\n",
    "    print(f'{i}), post={h.posterior_score:.2f}, prior={h.prior:.2f}, lik={h.likelihood:.2f}, qq={qq(h)}')"
   ]
  },
  {
   "cell_type": "code",
   "execution_count": null,
   "metadata": {},
   "outputs": [],
   "source": []
  }
 ],
 "metadata": {
  "kernelspec": {
   "display_name": "iac",
   "language": "python",
   "name": "python3"
  },
  "language_info": {
   "codemirror_mode": {
    "name": "ipython",
    "version": 3
   },
   "file_extension": ".py",
   "mimetype": "text/x-python",
   "name": "python",
   "nbconvert_exporter": "python",
   "pygments_lexer": "ipython3",
   "version": "3.10.6"
  },
  "orig_nbformat": 4,
  "vscode": {
   "interpreter": {
    "hash": "b0d92c0f48e14e92ccab483581ae68e0ce8721711bfeacc013e13767dafa3a7c"
   }
  }
 },
 "nbformat": 4,
 "nbformat_minor": 2
}
