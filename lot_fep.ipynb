{
 "cells": [
  {
   "attachments": {},
   "cell_type": "markdown",
   "metadata": {},
   "source": [
    "# Monster task model"
   ]
  },
  {
   "cell_type": "code",
   "execution_count": 1,
   "metadata": {},
   "outputs": [],
   "source": [
    "from LOTlib3.Grammar import Grammar\n",
    "from LOTlib3.DefaultGrammars import DNF\n",
    "from math import log\n",
    "from LOTlib3.Hypotheses.LOTHypothesis import LOTHypothesis\n",
    "from LOTlib3.Hypotheses.Likelihoods.BinaryLikelihood import BinaryLikelihood\n",
    "from LOTlib3.DataAndObjects import FunctionData, Obj\n",
    "from LOTlib3.Eval import primitive\n",
    "from collections import Counter\n",
    "\n",
    "from LOTlib3 import break_ctrlc\n",
    "from LOTlib3.Miscellaneous import qq\n",
    "from LOTlib3.TopN import TopN\n",
    "from LOTlib3.Samplers.MetropolisHastings import MetropolisHastingsSampler\n",
    "import re, pyparsing as pp\n",
    "\n",
    "import numpy as np\n",
    "import matplotlib.pyplot as plt\n",
    "from random import seed\n",
    "from mpl_toolkits.axes_grid1.inset_locator import inset_axes\n",
    "\n",
    "from LOTlib3.Eval import RecursionDepthException\n",
    "from LOTlib3.Miscellaneous import Infinity"
   ]
  },
  {
   "cell_type": "code",
   "execution_count": 2,
   "metadata": {},
   "outputs": [],
   "source": [
    "def rm_ticks(ax):\n",
    "    ax.tick_params(top=False, bottom=False, left=False, right=False, labelleft=False, labelbottom=False)"
   ]
  },
  {
   "attachments": {},
   "cell_type": "markdown",
   "metadata": {},
   "source": [
    "# Generative grammar"
   ]
  },
  {
   "attachments": {},
   "cell_type": "markdown",
   "metadata": {},
   "source": [
    "### Definition"
   ]
  },
  {
   "cell_type": "code",
   "execution_count": 18,
   "metadata": {},
   "outputs": [],
   "source": [
    "@primitive\n",
    "def any_(F,S): \n",
    "    return any(map(F,S))\n",
    "\n",
    "\n",
    "@primitive\n",
    "def all_(F,S):\n",
    "    return all(map(F,S))\n",
    "\n",
    "\n",
    "@primitive\n",
    "def fequal_(x, f, y):\n",
    "    return getattr(x, f) == int(y)\n",
    "\n",
    "\n",
    "@primitive\n",
    "def fle_(x, f, y):\n",
    "    return getattr(x, (f)) <= int(y)\n",
    "\n",
    "\n",
    "@primitive\n",
    "def fge_(x, f, y):\n",
    "    return getattr(x, (f)) >= int(y)\n",
    "\n",
    "\n",
    "# @primitive\n",
    "# def fi_(x, y):\n",
    "#     return getattr(x, (f)) < int(y)\n",
    "\n",
    "\n",
    "ndims = 2\n",
    "\n",
    "# Define a grammar object\n",
    "# Syntax: `grammar.add_rule(NONTERMINAL, FUNCTION, ARGUMENTS, PROBABILITY)`\n",
    "grammar = Grammar(start='START')\n",
    "\n",
    "grammar.add_rule('START', '', ['Q'], 1.0) # Quantifier\n",
    "\n",
    "# # The following lines are crucial for \"recognizing OBJECTS provided in the data\"\n",
    "# grammar.add_rule('Q', 'forall_', ['FUNCTION', 'SET'], 1.0)\n",
    "# grammar.add_rule('Q', 'exists_', ['FUNCTION', 'SET'], 1.0)\n",
    "# grammar.add_rule('SET', 'S', None, 1.0)\n",
    "# grammar.add_rule('FUNCTION', 'lambda', ['DISJ'], 1.0, bv_type='X')\n",
    "\n",
    "# # Logical operations\n",
    "# grammar.add_rule('DISJ', 'or_', ['CONJ', 'DISJ'], 1.0)\n",
    "# # grammar.add_rule('DISJ', 'False', None, 1.0)\n",
    "# grammar.add_rule('CONJ', 'and_', ['CONJ', 'P'], 1.0)\n",
    "# # grammar.add_rule('CONJ', 'True', None, 1.0)\n",
    "\n",
    "# The following lines are crucial for \"recognizing OBJECTS provided in the data\"\n",
    "grammar.add_rule('Q', 'all_', ['FUNCTION', 'SET'], 1.0)\n",
    "grammar.add_rule('SET', 'S', None, 1.0)\n",
    "grammar.add_rule('FUNCTION', 'lambda', ['BOOL'], 1.0, bv_type='X')\n",
    "\n",
    "# Logical operations\n",
    "grammar.add_rule('BOOL', 'or_', ['BOOL', 'BOOL'], 1.0)\n",
    "grammar.add_rule('BOOL', 'and_', ['BOOL', 'BOOL'], 1.0)\n",
    "\n",
    "# Predicate becomes feature predicate\n",
    "# grammar.add_rule('P', '', ['FP'], 1.0)\n",
    "\n",
    "\n",
    "for v in range(1, 7):\n",
    "    grammar.add_rule('BOOL', 'fequal_', ['X', 'F', str(v)], 1.0)\n",
    "    grammar.add_rule('BOOL', 'fle_', ['X', 'F', str(v)], 1.0)\n",
    "    grammar.add_rule('BOOL', 'fge_', ['X', 'F', str(v)], 1.0)\n",
    "\n",
    "for i in range(ndims):\n",
    "    grammar.add_rule('F', f'\\'F{i}\\'', None, 1.0)\n",
    "\n"
   ]
  },
  {
   "attachments": {},
   "cell_type": "markdown",
   "metadata": {},
   "source": [
    "### Simplicity bias"
   ]
  },
  {
   "cell_type": "code",
   "execution_count": 687,
   "metadata": {},
   "outputs": [
    {
     "name": "stdout",
     "output_type": "stream",
     "text": [
      "10 randomly generated productions from the grammar:\n",
      "\n",
      "| STRING LENGTH | SURPRISAL |\n",
      "|---------------|-----------|\n",
      "|             7 |     4.382 |\n",
      "|             7 |     4.382 |\n",
      "|             7 |     4.382 |\n",
      "|             7 |     4.382 |\n",
      "|             7 |     4.382 |\n",
      "|             7 |     4.382 |\n",
      "|            11 |    11.067 |\n",
      "|             7 |     4.382 |\n",
      "|             7 |     4.382 |\n",
      "|             7 |     4.382 |\n",
      "|           ... |       ... |\n"
     ]
    }
   ],
   "source": [
    "n = 10\n",
    "print(f'{n} randomly generated productions from the grammar:\\n')\n",
    "print('| STRING LENGTH | SURPRISAL |')\n",
    "print('|---------------|-----------|')\n",
    "for _ in range(n):\n",
    "    t = grammar.generate()\n",
    "    print(f'| {len(t):13d} | {-grammar.log_probability(t):9.3f} |')\n",
    "    # print(t)\n",
    "print('|           ... |       ... |')"
   ]
  },
  {
   "cell_type": "code",
   "execution_count": 688,
   "metadata": {},
   "outputs": [
    {
     "ename": "TypeError",
     "evalue": "cannot unpack non-iterable Figure object",
     "output_type": "error",
     "traceback": [
      "\u001b[0;31m---------------------------------------------------------------------------\u001b[0m",
      "\u001b[0;31mTypeError\u001b[0m                                 Traceback (most recent call last)",
      "\u001b[1;32m/Users/alexten/Projects/fep_model/lot_fep.ipynb Cell 9\u001b[0m in \u001b[0;36m<cell line: 7>\u001b[0;34m()\u001b[0m\n\u001b[1;32m      <a href='vscode-notebook-cell:/Users/alexten/Projects/fep_model/lot_fep.ipynb#X34sZmlsZQ%3D%3D?line=3'>4</a>\u001b[0m     slen\u001b[39m.\u001b[39mappend(\u001b[39mlen\u001b[39m(qq(t)))\n\u001b[1;32m      <a href='vscode-notebook-cell:/Users/alexten/Projects/fep_model/lot_fep.ipynb#X34sZmlsZQ%3D%3D?line=4'>5</a>\u001b[0m     surp\u001b[39m.\u001b[39mappend(grammar\u001b[39m.\u001b[39mlog_probability(t))\n\u001b[0;32m----> <a href='vscode-notebook-cell:/Users/alexten/Projects/fep_model/lot_fep.ipynb#X34sZmlsZQ%3D%3D?line=6'>7</a>\u001b[0m fig, \u001b[39m=\u001b[39m plt\u001b[39m.\u001b[39mfigure()\n\u001b[1;32m      <a href='vscode-notebook-cell:/Users/alexten/Projects/fep_model/lot_fep.ipynb#X34sZmlsZQ%3D%3D?line=7'>8</a>\u001b[0m plt\u001b[39m.\u001b[39mscatter(x\u001b[39m=\u001b[39mslen, y\u001b[39m=\u001b[39msurp, alpha\u001b[39m=\u001b[39m\u001b[39m.3\u001b[39m, color\u001b[39m=\u001b[39m\u001b[39m'\u001b[39m\u001b[39mk\u001b[39m\u001b[39m'\u001b[39m, s\u001b[39m=\u001b[39m\u001b[39m3\u001b[39m)\n\u001b[1;32m      <a href='vscode-notebook-cell:/Users/alexten/Projects/fep_model/lot_fep.ipynb#X34sZmlsZQ%3D%3D?line=8'>9</a>\u001b[0m plt\u001b[39m.\u001b[39mxlabel(\u001b[39m'\u001b[39m\u001b[39mComplexity (string length)\u001b[39m\u001b[39m'\u001b[39m)\n",
      "\u001b[0;31mTypeError\u001b[0m: cannot unpack non-iterable Figure object"
     ]
    },
    {
     "data": {
      "text/plain": [
       "<Figure size 640x480 with 0 Axes>"
      ]
     },
     "metadata": {},
     "output_type": "display_data"
    }
   ],
   "source": [
    "slen, surp = [], []\n",
    "for _ in range(1000):\n",
    "    t = grammar.generate()\n",
    "    slen.append(len(qq(t)))\n",
    "    surp.append(grammar.log_probability(t))\n",
    "\n",
    "fig, = plt.figure()\n",
    "plt.scatter(x=slen, y=surp, alpha=.3, color='k', s=3)\n",
    "plt.xlabel('Complexity (string length)')\n",
    "plt.ylabel(r'$\\log \\pi(h)$')"
   ]
  },
  {
   "attachments": {},
   "cell_type": "markdown",
   "metadata": {},
   "source": [
    "# Ground Truth and Data"
   ]
  },
  {
   "cell_type": "code",
   "execution_count": 5,
   "metadata": {},
   "outputs": [
    {
     "name": "stdout",
     "output_type": "stream",
     "text": [
      "{'1d1': [<{s(F0=1, F1=4)} -> True>, <{s(F0=2, F1=4)} -> True>, <{s(F0=3, F1=4)} -> True>, <{s(F0=4, F1=4)} -> False>, <{s(F0=5, F1=4)} -> False>, <{s(F0=6, F1=4)} -> False>], '2d1': [<{s(F0=1, F1=1)} -> True>, <{s(F0=1, F1=2)} -> True>, <{s(F0=1, F1=3)} -> True>, <{s(F0=1, F1=4)} -> True>, <{s(F0=1, F1=5)} -> True>, <{s(F0=1, F1=6)} -> True>, <{s(F0=2, F1=1)} -> True>, <{s(F0=2, F1=2)} -> True>, <{s(F0=2, F1=3)} -> True>, <{s(F0=2, F1=4)} -> True>, <{s(F0=2, F1=5)} -> True>, <{s(F0=2, F1=6)} -> True>, <{s(F0=3, F1=1)} -> True>, <{s(F0=3, F1=2)} -> True>, <{s(F0=3, F1=3)} -> True>, <{s(F0=3, F1=4)} -> True>, <{s(F0=3, F1=5)} -> True>, <{s(F0=3, F1=6)} -> True>, <{s(F0=4, F1=1)} -> False>, <{s(F0=4, F1=2)} -> False>, <{s(F0=4, F1=3)} -> False>, <{s(F0=4, F1=4)} -> False>, <{s(F0=4, F1=5)} -> False>, <{s(F0=4, F1=6)} -> False>, <{s(F0=5, F1=1)} -> False>, <{s(F0=5, F1=2)} -> False>, <{s(F0=5, F1=3)} -> False>, <{s(F0=5, F1=4)} -> False>, <{s(F0=5, F1=5)} -> False>, <{s(F0=5, F1=6)} -> False>, <{s(F0=6, F1=1)} -> False>, <{s(F0=6, F1=2)} -> False>, <{s(F0=6, F1=3)} -> False>, <{s(F0=6, F1=4)} -> False>, <{s(F0=6, F1=5)} -> False>, <{s(F0=6, F1=6)} -> False>], '2d2': [<{s(F0=1, F1=1)} -> True>, <{s(F0=1, F1=2)} -> True>, <{s(F0=1, F1=3)} -> True>, <{s(F0=1, F1=4)} -> False>, <{s(F0=1, F1=5)} -> False>, <{s(F0=1, F1=6)} -> False>, <{s(F0=2, F1=1)} -> True>, <{s(F0=2, F1=2)} -> True>, <{s(F0=2, F1=3)} -> True>, <{s(F0=2, F1=4)} -> False>, <{s(F0=2, F1=5)} -> False>, <{s(F0=2, F1=6)} -> False>, <{s(F0=3, F1=1)} -> True>, <{s(F0=3, F1=2)} -> True>, <{s(F0=3, F1=3)} -> True>, <{s(F0=3, F1=4)} -> False>, <{s(F0=3, F1=5)} -> False>, <{s(F0=3, F1=6)} -> False>, <{s(F0=4, F1=1)} -> False>, <{s(F0=4, F1=2)} -> False>, <{s(F0=4, F1=3)} -> False>, <{s(F0=4, F1=4)} -> True>, <{s(F0=4, F1=5)} -> True>, <{s(F0=4, F1=6)} -> True>, <{s(F0=5, F1=1)} -> False>, <{s(F0=5, F1=2)} -> False>, <{s(F0=5, F1=3)} -> False>, <{s(F0=5, F1=4)} -> True>, <{s(F0=5, F1=5)} -> True>, <{s(F0=5, F1=6)} -> True>, <{s(F0=6, F1=1)} -> False>, <{s(F0=6, F1=2)} -> False>, <{s(F0=6, F1=3)} -> False>, <{s(F0=6, F1=4)} -> True>, <{s(F0=6, F1=5)} -> True>, <{s(F0=6, F1=6)} -> True>]}\n"
     ]
    },
    {
     "data": {
      "image/png": "[encoded data removed]",
      "text/plain": [
       "<Figure size 640x480 with 3 Axes>"
      ]
     },
     "metadata": {},
     "output_type": "display_data"
    }
   ],
   "source": [
    "class Stimulus(object):\n",
    "    def __init__(self, **kwargs):\n",
    "        self.features = list(kwargs.keys())\n",
    "        for k, v in kwargs.items():\n",
    "            setattr(self, k, v)\n",
    "\n",
    "    def __repr__(self):\n",
    "        l = []\n",
    "        for k, v in self.__dict__.items():\n",
    "            if k!= 'features':\n",
    "                l.append(f'{k}={v}')\n",
    "        features_str = ', '.join(l)\n",
    "        return f's({features_str})'\n",
    "    \n",
    "\n",
    "def gen_2d_stimuli1(F0_range, F1_range, rule):\n",
    "    data = []\n",
    "    pos_set = set()\n",
    "    neg_set = set()\n",
    "    for F0 in F0_range:\n",
    "        for F1 in F1_range:\n",
    "            stim = Stimulus(F0=F0, F1=F1)\n",
    "            pos_set.add(stim) if eval(rule) else neg_set.add(stim)\n",
    "                \n",
    "    data.append(FunctionData(input=[pos_set], output=True, alpha=0.99))\n",
    "    data.append(FunctionData(input=[neg_set], output=False, alpha=0.99))\n",
    "    return data\n",
    "\n",
    "\n",
    "def gen_2d_stimuli2(F0_range, F1_range, rule):\n",
    "    data = []\n",
    "    for F0 in F0_range:\n",
    "        for F1 in F1_range:\n",
    "            stim = Stimulus(F0=F0, F1=F1)\n",
    "            data.append(FunctionData(input=[{stim}], output=eval(rule), alpha=0.99)) \n",
    "    return data\n",
    "\n",
    "\n",
    "def grid_vis(data, ax, title):\n",
    "    for subset in data:\n",
    "        for stimulus in subset.input[-1]:\n",
    "            c = 'g' if subset.output else 'r'\n",
    "            m = 'o' if subset.output else 'x'\n",
    "            ax.scatter(x = stimulus.__getattribute__('F0'), y = stimulus.__getattribute__('F1'), color=c, marker=m, s=20, alpha=.5)\n",
    "            ax.set_title(title)\n",
    "            ax.set_aspect('equal', 'box')\n",
    "\n",
    "\n",
    "stim_defs = {\n",
    "    '1d1': dict(rule = 'F0 <= 3', dims = [range(1, 7), range(4, 5)]),\n",
    "    '2d1': dict(rule = 'F0 <= 3', dims = [range(1, 7), range(1, 7)]),\n",
    "    '2d2': dict(rule = '(F0 <= 3 and F1 <= 3) or (F0 > 3 and F1 > 3)', dims = [range(1, 7), range(1, 7)]),\n",
    "}\n",
    "\n",
    "data = dict()\n",
    "for k, d in stim_defs.items():\n",
    "    data[k] = gen_2d_stimuli2(d['dims'][0], d['dims'][1], d['rule'])\n",
    "print(data)\n",
    "\n",
    "fig, axes = plt.subplots(nrows=3, ncols=1, sharey=True)\n",
    "for i, (k, v) in enumerate(data.items()):\n",
    "    grid_vis(v, axes[i], k)\n",
    "    rm_ticks(axes[i])\n",
    "fig.tight_layout()\n",
    "\n",
    "\n",
    "stimuli = []\n",
    "for F0 in range(1, 7):\n",
    "    for F1 in range(1, 7):\n",
    "        stimuli.append(Stimulus(F0=F0, F1=F1))\n",
    "\n",
    "# F0, F1, cat, alpha = 2, 2, True, .9999\n",
    "# obs = [FunctionData(input=[{Stimulus(F0=F0, F1=F1)}], output=cat, alpha=alpha) for i in range(1)]"
   ]
  },
  {
   "attachments": {},
   "cell_type": "markdown",
   "metadata": {},
   "source": [
    "# Inference"
   ]
  },
  {
   "attachments": {},
   "cell_type": "markdown",
   "metadata": {},
   "source": [
    "### Likelihood"
   ]
  },
  {
   "attachments": {},
   "cell_type": "markdown",
   "metadata": {},
   "source": [
    "We use `BinaryLikelihood` for our hypotheses:\n",
    "```python\n",
    "class BinaryLikelihood(object):\n",
    "    def compute_single_likelihood(self, datum):\n",
    "        try:\n",
    "            return log(datum.alpha * (self(*datum.input) == datum.output) + (1.0-datum.alpha) / 2.0)\n",
    "        except RecursionDepthException as e: # we get this from recursing too deep -- catch and thus treat \"ret\" as None\n",
    "            return -Infinity\n",
    "```\n",
    "\n",
    "`self(*datum.input)` evaluates the input object in light of the hypothesis (`self`). If the hypothesis effectively evaluates an input to `True`, it means that according to this hypothesis, the input is a positive example of a category. Then, the expression `(self(*datum.input) == datum.output)` evaluates to `1` if the hypothesis is consistent with the observation, and `0` otherwise.\n",
    "\n",
    "Thus, the likelihood given a single `datum` becomes equal to $\\alpha[h(x_0,...,x_N)=y] + \\frac{1-\\alpha}{2}$, where $[h(x_0,...,x_N)=y]$ is an Iverson bracket. In other words, the likelihood is:\n",
    "- $\\alpha + \\frac{1-\\alpha}{2}$, when the hypothesis evaluates consistently with the observation\n",
    "- $\\frac{1-\\alpha}{2}$, when it does not\n",
    "\n",
    "The $\\alpha$ parameter controls how strongly a given `datum` influences posterior belief in a hypothesis. If $\\alpha$ is small, an observation will have similar likelihood regardless if whether it is consistent with the hypothesis or not. As the $\\alpha$ parameter grows, inconsistent hypotheses become less likely in light of evidence, compared to consistent hypotheses. In practice, we use a log likelihood (see Fig. 1 below). The parameter $\\alpha$ can thus be interpreted as a observation credibility parameter. A credibility of 1 tells us that we can use the `datum` to discard an inconsisten hypothesis and fully adopt the consistent one. A credibility of 0 tells us that posterior belief does not depend on the observation at all. Interestingly, we can also control the baseline probability decay for when $\\alpha$ is equal to 0. That is, we can implement different assumptions about what happens to a hypothesis when the effects of observation fade away. For example, what happens to a hypothesis, when the memory of an observation decays? Presumably, that observation will no longer have any effect on the hypothesis in question, but will the hypothesis tend to regress towards the prior?\n",
    "\n",
    "To help our intuition consider the following visualization.\n",
    "|Fig 1. Likelihood|\n",
    "|----------|\n",
    "|<div><img src=\"img/likelihood_alt.png\" width=\"500px\"/></div>|\n",
    "| <div style=\"width:500px\">Here, we display the likelihood as a function of α (x-axis) and hypothesis accuracy (color, red vs blue), given a datum. Smaller values of α control the discrepancy between the likelihoods of consistent and inconsistent hypotheses. At the extreme, when α = 0, the likelihood is the same, regardless of the hypothesis. As α -> 1, the gap between likelihoods of consistent and inconsistent hypotheses increases. (To view alternative surprisal-based visualization, change the file name to likelihood_alt.png)</div>|"
   ]
  },
  {
   "attachments": {},
   "cell_type": "markdown",
   "metadata": {},
   "source": [
    "### Hypothesis `object`"
   ]
  },
  {
   "cell_type": "code",
   "execution_count": 20,
   "metadata": {},
   "outputs": [],
   "source": [
    "class MyHypothesis(BinaryLikelihood, LOTHypothesis):\n",
    "    def __init__(self, grammar=grammar, **kwargs):\n",
    "        LOTHypothesis.__init__(self, grammar=grammar, display='lambda S: %s', **kwargs)\n",
    "\n",
    "    def compute_single_likelihood(self, datum):\n",
    "        try:\n",
    "            return np.log(datum.alpha * (self(*datum.input) == datum.output) + (1.0-datum.alpha) / 2.0)\n",
    "        except RecursionDepthException as e: # we get this from recursing too deep -- catch and thus treat \"ret\" as None\n",
    "            return -Infinity\n",
    "    \n",
    "    def vis_mpl(self, stimuli, ax):\n",
    "        for stimulus in stimuli:\n",
    "            c = 'g' if self({stimulus}) else 'r'\n",
    "            m = 'o' if self({stimulus}) else 'x'\n",
    "            ax.scatter(x = stimulus.__getattribute__('F0'), y = stimulus.__getattribute__('F1'), color=c, marker=m, s=40, alpha=.5)\n",
    "            ax.set_aspect('equal', 'box')\n",
    "\n",
    "\n",
    "    def vis_text(self, stimuli, s=6):\n",
    "        arr = np.zeros([s, s]).astype(bool)\n",
    "        for stimulus in stimuli:\n",
    "            if self({stimulus}):\n",
    "                arr[stimulus.__getattribute__('F0') - 1, stimulus.__getattribute__('F1') - 1] = True\n",
    "        \n",
    "        for i, r in enumerate(np.flipud(arr.T)):\n",
    "            print(f'{6-i} ' + '  '.join(['∆' if i else '•' for i in r]))\n",
    "        print('  ' + '  '.join([str(i+1) for i in range(6)]))"
   ]
  },
  {
   "attachments": {},
   "cell_type": "markdown",
   "metadata": {},
   "source": [
    "### Updating a single hypothesis"
   ]
  },
  {
   "cell_type": "code",
   "execution_count": 21,
   "metadata": {},
   "outputs": [
    {
     "name": "stdout",
     "output_type": "stream",
     "text": [
      "Sampled hypothesis: \"lambda S: all_(lambda y2: fequal_(y2, 'F0', 2), S)\"\n",
      "Predictions:\n",
      "6 •  ∆  •  •  •  •\n",
      "5 •  ∆  •  •  •  •\n",
      "4 •  ∆  •  •  •  •\n",
      "3 •  ∆  •  •  •  •\n",
      "2 •  ∆  •  •  •  •\n",
      "1 •  ∆  •  •  •  •\n",
      "  1  2  3  4  5  6\n",
      "\n",
      "h({s(F0=2, F1=5)}) = True\n",
      "h({s(F0=4, F1=0)}) = False\n",
      "\n",
      "Prior surprisal is 3.689. Given a positive stimulus ([s(F0=2, F1=6)], and α=0.9), we add 0.051 to the prior, so the posterior surprisal is 3.740\n",
      "If the stimulus was negative, we would add 2.996 to the prior, and get a posterior of 6.685.\n"
     ]
    }
   ],
   "source": [
    "# Sample a random hypothesis\n",
    "seed(0)\n",
    "h = MyHypothesis()\n",
    "α = .9\n",
    "\n",
    "print(f'Sampled hypothesis: {qq(h)}')\n",
    "print('Predictions:')\n",
    "h.vis_text(stimuli)\n",
    "print()\n",
    "\n",
    "consistent_stimulus = {Stimulus(F0=2, F1=5)}\n",
    "inconsistent_stimulus = {Stimulus(F0=4, F1=0)}\n",
    "print(f'h({consistent_stimulus}) = {h(consistent_stimulus)}')\n",
    "print(f'h({inconsistent_stimulus}) = {h(inconsistent_stimulus)}', end='\\n\\n')\n",
    "\n",
    "print(f'Prior surprisal is {-h.compute_prior():.3f}.', end=' ')\n",
    "observed_stimulus = Stimulus(F0=2, F1=6)\n",
    "obs = [[FunctionData(input=[{observed_stimulus}], output=True, alpha=α)], [FunctionData(input=[{observed_stimulus}], output=False, alpha=α)]]\n",
    "loglik = [h.compute_likelihood(o) for o in obs]\n",
    "post = [h.compute_posterior(o) for o in obs]\n",
    "print(f'Given a positive stimulus ([{observed_stimulus}], and α={α}), we add {-loglik[0]:.3f} to the prior, so the posterior surprisal is {-post[0]:.3f}')\n",
    "print(f'If the stimulus was negative, we would add {-loglik[1]:.3f} to the prior, and get a posterior of {-post[1]:.3f}.')\n"
   ]
  },
  {
   "attachments": {},
   "cell_type": "markdown",
   "metadata": {},
   "source": [
    "### Updating a space of hypotheses"
   ]
  },
  {
   "cell_type": "code",
   "execution_count": 8,
   "metadata": {},
   "outputs": [
    {
     "name": "stdout",
     "output_type": "stream",
     "text": [
      "Entropies: prior = 1.6113586164374127; posterior = 0.7402977180943408\n"
     ]
    },
    {
     "data": {
      "image/png": "[encoded data removed]",
      "text/plain": [
       "<Figure size 1300x600 with 7 Axes>"
      ]
     },
     "metadata": {},
     "output_type": "display_data"
    }
   ],
   "source": [
    "def dentropy(x):\n",
    "    return -np.sum(x * np.log(x))\n",
    "\n",
    "stim = Stimulus(F0=3, F1=2)\n",
    "observation = [FunctionData(input=[{stim}], output=True, alpha=0.99)]\n",
    "\n",
    "seeds = [1, 4, 27, 23, 99, 11]\n",
    "hyps = []\n",
    "for s in seeds:\n",
    "    seed(s)\n",
    "    hyps.append(MyHypothesis())\n",
    "\n",
    "\n",
    "logprior, loglik, logpost = [], [], []\n",
    "for i, h in enumerate(hyps):\n",
    "    logprior.append(h.compute_prior())\n",
    "    loglik.append(h.compute_likelihood(observation))\n",
    "    logpost.append(h.compute_posterior(observation))\n",
    "\n",
    "# Normalize\n",
    "beliefs = [np.array(logprior), np.array(logpost)]\n",
    "for i, b in enumerate(beliefs):\n",
    "    b = np.exp(b)\n",
    "    b = b/b.sum()\n",
    "    beliefs[i] = b\n",
    "fig.tight_layout()\n",
    "\n",
    "print(f'Entropies: prior = {dentropy(beliefs[0])}; posterior = {dentropy(beliefs[1])}')\n",
    "fig, ax = plt.subplots(figsize=[13, 6], nrows=1, ncols=1, sharex=True)\n",
    "\n",
    "w, x = 0.20, np.arange(len(hyps))\n",
    "ax.bar(x - w/2, beliefs[0]+.005, w, color='gray', label='prior')\n",
    "ax.bar(x + w/2, beliefs[1]+.005, w, color='salmon', label='posterior')\n",
    "ax.axhline(0, color='k', lw=.5)\n",
    "ax.set_ylim([-.7, 1])\n",
    "ax.set_xticks(x)\n",
    "ax.set_xticklabels([f'h{i}' for i in x])\n",
    "ax.grid\n",
    "s = .65\n",
    "\n",
    "for i, h in enumerate(hyps):\n",
    "    axin = inset_axes(ax, width='100%', height='100%', bbox_transform=ax.transData, bbox_to_anchor=(x[i]-s/2, -.6, s, s), loc='upper center', borderpad=0)\n",
    "    axin.set_aspect('equal')\n",
    "    h.vis_mpl(stimuli, ax=axin)\n",
    "    axin.scatter(x=stim.F0, y=stim.F1, marker='8', s=200, alpha=.2, color='magenta')\n",
    "    rm_ticks(axin)\n",
    "    axin.set_xlabel(f'String length = {len(qq(h))}\\nPrior prob = {beliefs[0][i]:.3f}\\nPost prob = {beliefs[1][i]:.3f}', fontsize='small')\n"
   ]
  },
  {
   "attachments": {},
   "cell_type": "markdown",
   "metadata": {},
   "source": [
    "# **MCMC**"
   ]
  },
  {
   "cell_type": "code",
   "execution_count": 33,
   "metadata": {},
   "outputs": [
    {
     "name": "stdout",
     "output_type": "stream",
     "text": [
      "   1   -99.15 lambda S: all_(lambda y2: fle_(y2, 'F1', 5), S)\n",
      "   1   -99.15 lambda S: all_(lambda y2: fequal_(y2, 'F1', 5), S)\n",
      "   1   -99.15 lambda S: all_(lambda y2: fge_(y2, 'F1', 2), S)\n",
      "   1   -99.15 lambda S: all_(lambda y2: fge_(y2, 'F1', 1), S)\n",
      "   1   -71.56 lambda S: all_(lambda y2: and_(or_(fle_(y2, 'F1', 3), fge_(y2, 'F0', 4)), or_(fle_(y2, 'F0', 6), fle_(y2, 'F0', 6))), S)\n",
      "   1   -62.37 lambda S: all_(lambda y2: and_(or_(fle_(y2, 'F1', 3), fge_(y2, 'F0', 4)), or_(fge_(y2, 'F1', 4), and_(fequal_(y2, 'F0', 2), fle_(y2, 'F0', 3)))), S)\n",
      "   2   -99.15 lambda S: all_(lambda y2: fequal_(y2, 'F0', 1), S)\n",
      "   2   -99.15 lambda S: all_(lambda y2: fle_(y2, 'F1', 6), S)\n",
      "   2   -99.15 lambda S: all_(lambda y2: fequal_(y2, 'F0', 4), S)\n",
      "   2   -71.56 lambda S: all_(lambda y2: and_(or_(fle_(y2, 'F1', 3), fge_(y2, 'F0', 4)), or_(fle_(y2, 'F0', 6), fle_(y2, 'F1', 6))), S)\n",
      "   2   -71.56 lambda S: all_(lambda y2: and_(or_(fle_(y2, 'F1', 3), fge_(y2, 'F0', 4)), or_(fequal_(y2, 'F0', 4), fge_(y2, 'F0', 1))), S)\n",
      "   2   -30.61 lambda S: all_(lambda y2: and_(or_(fle_(y2, 'F1', 3), fge_(y2, 'F0', 4)), or_(and_(fge_(y2, 'F1', 4), fge_(y2, 'F0', 4)), fle_(y2, 'F0', 3))), S)\n",
      "   3   -99.15 lambda S: all_(lambda y2: fequal_(y2, 'F1', 3), S)\n",
      "   3   -99.15 lambda S: all_(lambda y2: fge_(y2, 'F0', 1), S)\n",
      "   3   -99.15 lambda S: all_(lambda y2: fle_(y2, 'F1', 3), S)\n",
      "   3  -100.54 lambda S: all_(lambda y2: and_(fequal_(y2, 'F0', 5), fequal_(y2, 'F1', 5)), S)\n",
      "   3   -71.56 lambda S: all_(lambda y2: and_(or_(fle_(y2, 'F1', 3), fge_(y2, 'F0', 4)), or_(fle_(y2, 'F1', 6), fle_(y2, 'F1', 6))), S)\n",
      "   4   -64.88 lambda S: all_(lambda y2: and_(or_(fge_(y2, 'F0', 4), fge_(y2, 'F0', 4)), fge_(y2, 'F1', 4)), S)\n",
      "   4   -71.56 lambda S: all_(lambda y2: and_(or_(fle_(y2, 'F1', 3), fge_(y2, 'F0', 4)), or_(fge_(y2, 'F0', 4), fle_(y2, 'F1', 6))), S)\n",
      "   5   -99.15 lambda S: all_(lambda y2: fle_(y2, 'F0', 6), S)\n",
      "   6  -100.54 lambda S: all_(lambda y2: and_(fge_(y2, 'F0', 6), fequal_(y2, 'F1', 5)), S)\n",
      "   6   -64.88 lambda S: all_(lambda y2: and_(or_(fge_(y2, 'F0', 5), fge_(y2, 'F0', 4)), fge_(y2, 'F1', 4)), S)\n",
      "   7   -99.15 lambda S: all_(lambda y2: fge_(y2, 'F0', 5), S)\n",
      "   7   -71.56 lambda S: all_(lambda y2: and_(or_(fle_(y2, 'F1', 3), fge_(y2, 'F0', 4)), or_(fequal_(y2, 'F0', 4), fle_(y2, 'F1', 6))), S)\n",
      "   8   -71.56 lambda S: all_(lambda y2: and_(or_(fle_(y2, 'F1', 3), fge_(y2, 'F0', 4)), or_(fle_(y2, 'F0', 5), fge_(y2, 'F1', 1))), S)\n",
      "   9   -71.56 lambda S: all_(lambda y2: and_(or_(fle_(y2, 'F1', 3), fge_(y2, 'F0', 4)), or_(fle_(y2, 'F0', 5), fle_(y2, 'F0', 1))), S)\n",
      "  11   -71.56 lambda S: all_(lambda y2: and_(or_(fle_(y2, 'F1', 3), fge_(y2, 'F0', 4)), or_(fle_(y2, 'F0', 3), fle_(y2, 'F1', 6))), S)\n",
      "  11   -71.56 lambda S: all_(lambda y2: and_(or_(fle_(y2, 'F1', 3), fge_(y2, 'F0', 4)), or_(fge_(y2, 'F1', 4), fle_(y2, 'F0', 6))), S)\n",
      "  11   -71.56 lambda S: all_(lambda y2: and_(or_(fle_(y2, 'F1', 3), fge_(y2, 'F0', 4)), or_(fle_(y2, 'F0', 5), fge_(y2, 'F0', 1))), S)\n",
      "  11   -62.37 lambda S: all_(lambda y2: and_(or_(fle_(y2, 'F1', 3), fge_(y2, 'F0', 4)), or_(fge_(y2, 'F1', 4), and_(fequal_(y2, 'F0', 2), fge_(y2, 'F0', 1)))), S)\n",
      "  13   -71.56 lambda S: all_(lambda y2: and_(or_(fle_(y2, 'F1', 3), fge_(y2, 'F0', 4)), or_(fge_(y2, 'F1', 4), fle_(y2, 'F1', 6))), S)\n",
      "  14   -71.56 lambda S: all_(lambda y2: and_(or_(fle_(y2, 'F1', 3), fge_(y2, 'F0', 4)), or_(fle_(y2, 'F1', 3), fle_(y2, 'F1', 6))), S)\n",
      "  15   -64.88 lambda S: all_(lambda y2: and_(or_(fge_(y2, 'F0', 4), fequal_(y2, 'F0', 4)), fge_(y2, 'F1', 4)), S)\n",
      "  16   -30.61 lambda S: all_(lambda y2: and_(or_(fle_(y2, 'F1', 3), fge_(y2, 'F0', 4)), or_(and_(fle_(y2, 'F0', 6), fge_(y2, 'F1', 4)), fle_(y2, 'F0', 3))), S)\n",
      "  17   -64.88 lambda S: all_(lambda y2: and_(or_(fge_(y2, 'F0', 4), fle_(y2, 'F1', 3)), fge_(y2, 'F1', 4)), S)\n",
      "  17   -64.88 lambda S: all_(lambda y2: and_(or_(fle_(y2, 'F1', 3), fge_(y2, 'F0', 4)), fge_(y2, 'F1', 4)), S)\n",
      "  17   -30.61 lambda S: all_(lambda y2: and_(or_(fle_(y2, 'F1', 3), fge_(y2, 'F0', 4)), or_(and_(fge_(y2, 'F0', 1), fge_(y2, 'F1', 4)), fle_(y2, 'F0', 3))), S)\n",
      "  23   -71.56 lambda S: all_(lambda y2: and_(or_(fle_(y2, 'F1', 3), fge_(y2, 'F0', 4)), or_(fge_(y2, 'F0', 4), fle_(y2, 'F0', 6))), S)\n",
      "  30   -64.88 lambda S: all_(lambda y2: and_(or_(fge_(y2, 'F0', 4), fle_(y2, 'F1', 2)), fge_(y2, 'F1', 4)), S)\n",
      "  31   -64.88 lambda S: all_(lambda y2: and_(or_(fle_(y2, 'F1', 3), fge_(y2, 'F0', 4)), fge_(y2, 'F1', 3)), S)\n",
      "  33   -64.88 lambda S: all_(lambda y2: and_(or_(fle_(y2, 'F1', 3), fge_(y2, 'F0', 4)), fge_(y2, 'F1', 2)), S)\n",
      "  35   -30.61 lambda S: all_(lambda y2: and_(or_(fle_(y2, 'F1', 3), fge_(y2, 'F0', 4)), or_(and_(fge_(y2, 'F1', 4), fge_(y2, 'F1', 4)), fle_(y2, 'F0', 3))), S)\n",
      "  36   -71.56 lambda S: all_(lambda y2: and_(or_(fle_(y2, 'F1', 3), fge_(y2, 'F0', 4)), or_(fle_(y2, 'F0', 5), fge_(y2, 'F0', 2))), S)\n",
      "  47   -30.61 lambda S: all_(lambda y2: and_(or_(fle_(y2, 'F1', 3), fge_(y2, 'F0', 4)), or_(and_(fge_(y2, 'F1', 1), fge_(y2, 'F1', 4)), fle_(y2, 'F0', 3))), S)\n",
      "  49   -64.88 lambda S: all_(lambda y2: and_(or_(fle_(y2, 'F1', 3), fge_(y2, 'F0', 4)), fle_(y2, 'F1', 6)), S)\n",
      "  51   -64.88 lambda S: all_(lambda y2: and_(or_(fle_(y2, 'F1', 3), fge_(y2, 'F0', 4)), fle_(y2, 'F0', 6)), S)\n",
      "  56   -30.61 lambda S: all_(lambda y2: and_(or_(fle_(y2, 'F1', 3), fge_(y2, 'F0', 4)), or_(and_(fge_(y2, 'F1', 3), fge_(y2, 'F1', 4)), fle_(y2, 'F0', 3))), S)\n",
      "  58   -64.88 lambda S: all_(lambda y2: and_(or_(fle_(y2, 'F1', 3), fge_(y2, 'F0', 4)), fge_(y2, 'F0', 1)), S)\n",
      "  61   -39.80 lambda S: all_(lambda y2: and_(or_(fle_(y2, 'F1', 3), fge_(y2, 'F0', 4)), or_(fge_(y2, 'F1', 4), fle_(y2, 'F0', 4))), S)\n",
      "  78   -64.88 lambda S: all_(lambda y2: and_(or_(fge_(y2, 'F0', 4), fequal_(y2, 'F0', 6)), fge_(y2, 'F1', 4)), S)\n",
      "  93   -30.61 lambda S: all_(lambda y2: and_(or_(fle_(y2, 'F1', 3), fge_(y2, 'F0', 4)), or_(and_(fle_(y2, 'F1', 6), fge_(y2, 'F1', 4)), fle_(y2, 'F0', 3))), S)\n",
      " 106   -64.88 lambda S: all_(lambda y2: and_(or_(fle_(y2, 'F1', 3), fge_(y2, 'F0', 4)), fle_(y2, 'F0', 4)), S)\n",
      " 114   -30.61 lambda S: all_(lambda y2: and_(or_(fle_(y2, 'F1', 3), fge_(y2, 'F0', 4)), or_(and_(fge_(y2, 'F0', 4), fge_(y2, 'F1', 4)), fle_(y2, 'F0', 3))), S)\n",
      " 116   -55.68 lambda S: all_(lambda y2: and_(or_(fle_(y2, 'F1', 3), fge_(y2, 'F0', 4)), or_(fge_(y2, 'F1', 4), fequal_(y2, 'F0', 2))), S)\n",
      " 137   -64.88 lambda S: all_(lambda y2: and_(or_(fle_(y2, 'F1', 3), fge_(y2, 'F0', 4)), fge_(y2, 'F1', 1)), S)\n",
      " 139   -30.61 lambda S: all_(lambda y2: and_(or_(fle_(y2, 'F1', 3), fge_(y2, 'F0', 4)), or_(and_(fge_(y2, 'F0', 3), fge_(y2, 'F1', 4)), fle_(y2, 'F0', 3))), S)\n",
      " 177   -64.88 lambda S: all_(lambda y2: and_(or_(fge_(y2, 'F0', 5), fequal_(y2, 'F0', 4)), fge_(y2, 'F1', 4)), S)\n",
      " 183   -89.95 lambda S: all_(lambda y2: and_(fge_(y2, 'F0', 4), fequal_(y2, 'F1', 5)), S)\n",
      " 209   -64.88 lambda S: all_(lambda y2: and_(or_(fequal_(y2, 'F1', 3), fge_(y2, 'F0', 4)), fge_(y2, 'F1', 4)), S)\n",
      " 329   -74.07 lambda S: all_(lambda y2: and_(fge_(y2, 'F0', 4), fge_(y2, 'F1', 5)), S)\n",
      " 350   -74.07 lambda S: all_(lambda y2: and_(fge_(y2, 'F0', 4), fge_(y2, 'F1', 3)), S)\n",
      " 515   -64.88 lambda S: all_(lambda y2: and_(or_(fequal_(y2, 'F1', 3), fge_(y2, 'F0', 4)), fge_(y2, 'F1', 3)), S)\n",
      " 622   -55.68 lambda S: all_(lambda y2: and_(or_(fle_(y2, 'F1', 3), fge_(y2, 'F0', 4)), or_(fge_(y2, 'F1', 4), fle_(y2, 'F0', 1))), S)\n",
      "2844   -58.19 lambda S: all_(lambda y2: and_(fge_(y2, 'F0', 4), fge_(y2, 'F1', 4)), S)\n",
      "3236   -23.92 lambda S: all_(lambda y2: and_(or_(fle_(y2, 'F1', 3), fge_(y2, 'F0', 4)), or_(fge_(y2, 'F1', 4), fle_(y2, 'F0', 3))), S)\n"
     ]
    }
   ],
   "source": [
    "h = MyHypothesis()\n",
    "\n",
    "top  = TopN(N=100)\n",
    "thin = 100\n",
    "count = Counter()\n",
    "\n",
    "for i, h in enumerate(MetropolisHastingsSampler(h, data['2d2'], steps=10_000)):\n",
    "    count[h] += 1\n",
    "    top << h\n",
    "    if i % thin == 0:\n",
    "        'nothing'\n",
    "\n",
    "# for h in top.get_all(sorted=True):\n",
    "#     print(h, h.posterior_score)\n",
    "#     h.vis_text(stimuli)\n",
    "\n",
    "\t\n",
    "\n",
    "# print the counts and the posteriors\n",
    "for h in sorted(count.keys(), key=lambda x: count[x]):\n",
    "\tprint(f'{count[h]:4d} {h.posterior_score:8.2f}', h)"
   ]
  }
 ],
 "metadata": {
  "kernelspec": {
   "display_name": "iac",
   "language": "python",
   "name": "python3"
  },
  "language_info": {
   "codemirror_mode": {
    "name": "ipython",
    "version": 3
   },
   "file_extension": ".py",
   "mimetype": "text/x-python",
   "name": "python",
   "nbconvert_exporter": "python",
   "pygments_lexer": "ipython3",
   "version": "3.10.6"
  },
  "orig_nbformat": 4,
  "vscode": {
   "interpreter": {
    "hash": "b0d92c0f48e14e92ccab483581ae68e0ce8721711bfeacc013e13767dafa3a7c"
   }
  }
 },
 "nbformat": 4,
 "nbformat_minor": 2
}
