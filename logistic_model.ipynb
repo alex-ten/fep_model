{
 "cells": [
  {
   "cell_type": "code",
   "execution_count": 2,
   "metadata": {},
   "outputs": [],
   "source": [
    "import numpy as np\n",
    "import matplotlib.pyplot as plt\n",
    "import statsmodels.api as sm"
   ]
  },
  {
   "attachments": {},
   "cell_type": "markdown",
   "metadata": {},
   "source": [
    "**make this plots interactive**"
   ]
  },
  {
   "cell_type": "code",
   "execution_count": 2,
   "metadata": {},
   "outputs": [
    {
     "data": {
      "text/plain": [
       "Text(0, 0.5, 'p(food = 1)')"
      ]
     },
     "execution_count": 2,
     "metadata": {},
     "output_type": "execute_result"
    },
    {
     "data": {
      "image/png": "[encoded data removed]",
      "text/plain": [
       "<Figure size 640x480 with 1 Axes>"
      ]
     },
     "metadata": {},
     "output_type": "display_data"
    }
   ],
   "source": [
    "def logistic(x, b0=0, b1=1):\n",
    "    return 1 / (1 + np.exp(-(b0 + b1*x)))\n",
    "\n",
    "x = np.linspace(-10, 10, 100)\n",
    "y = logistic(x, b0=0, b1=0)\n",
    "\n",
    "plt.plot(x, y)\n",
    "plt.xticks([])\n",
    "plt.xlabel('x')\n",
    "plt.ylabel('p(food = 1)')"
   ]
  },
  {
   "cell_type": "code",
   "execution_count": 41,
   "metadata": {},
   "outputs": [
    {
     "name": "stdout",
     "output_type": "stream",
     "text": [
      "Optimization terminated successfully    (Exit mode 0)\n",
      "            Current function value: 0.06417927017062716\n",
      "            Iterations: 42\n",
      "            Function evaluations: 46\n",
      "            Gradient evaluations: 42\n"
     ]
    },
    {
     "data": {
      "text/html": [
       "<table class=\"simpletable\">\n",
       "<caption>Logit Regression Results</caption>\n",
       "<tr>\n",
       "  <th>Dep. Variable:</th>           <td>y</td>        <th>  No. Observations:  </th>  <td>   158</td>  \n",
       "</tr>\n",
       "<tr>\n",
       "  <th>Model:</th>                 <td>Logit</td>      <th>  Df Residuals:      </th>  <td>   156</td>  \n",
       "</tr>\n",
       "<tr>\n",
       "  <th>Method:</th>                 <td>MLE</td>       <th>  Df Model:          </th>  <td>     1</td>  \n",
       "</tr>\n",
       "<tr>\n",
       "  <th>Date:</th>            <td>Fri, 27 Jan 2023</td> <th>  Pseudo R-squ.:     </th>  <td>0.9700</td>  \n",
       "</tr>\n",
       "<tr>\n",
       "  <th>Time:</th>                <td>16:38:42</td>     <th>  Log-Likelihood:    </th> <td> -3.2849</td> \n",
       "</tr>\n",
       "<tr>\n",
       "  <th>converged:</th>             <td>True</td>       <th>  LL-Null:           </th> <td> -109.40</td> \n",
       "</tr>\n",
       "<tr>\n",
       "  <th>Covariance Type:</th>     <td>nonrobust</td>    <th>  LLR p-value:       </th> <td>4.466e-48</td>\n",
       "</tr>\n",
       "</table>\n",
       "<table class=\"simpletable\">\n",
       "<tr>\n",
       "    <td></td>       <th>coef</th>     <th>std err</th>      <th>z</th>      <th>P>|z|</th>  <th>[0.025</th>    <th>0.975]</th>  \n",
       "</tr>\n",
       "<tr>\n",
       "  <th>const</th> <td>  -12.4978</td> <td>    3.100</td> <td>   -4.032</td> <td> 0.000</td> <td>  -18.574</td> <td>   -6.422</td>\n",
       "</tr>\n",
       "<tr>\n",
       "  <th>x1</th>    <td>         0</td> <td>      nan</td> <td>      nan</td> <td>   nan</td> <td>      nan</td> <td>      nan</td>\n",
       "</tr>\n",
       "<tr>\n",
       "  <th>x2</th>    <td>         0</td> <td>      nan</td> <td>      nan</td> <td>   nan</td> <td>      nan</td> <td>      nan</td>\n",
       "</tr>\n",
       "<tr>\n",
       "  <th>x3</th>    <td>    1.2130</td> <td>    0.304</td> <td>    3.984</td> <td> 0.000</td> <td>    0.616</td> <td>    1.810</td>\n",
       "</tr>\n",
       "</table><br/><br/>Possibly complete quasi-separation: A fraction 0.41 of observations can be<br/>perfectly predicted. This might indicate that there is complete<br/>quasi-separation. In this case some parameters will not be identified."
      ],
      "text/plain": [
       "<class 'statsmodels.iolib.summary.Summary'>\n",
       "\"\"\"\n",
       "                           Logit Regression Results                           \n",
       "==============================================================================\n",
       "Dep. Variable:                      y   No. Observations:                  158\n",
       "Model:                          Logit   Df Residuals:                      156\n",
       "Method:                           MLE   Df Model:                            1\n",
       "Date:                Fri, 27 Jan 2023   Pseudo R-squ.:                  0.9700\n",
       "Time:                        16:38:42   Log-Likelihood:                -3.2849\n",
       "converged:                       True   LL-Null:                       -109.40\n",
       "Covariance Type:            nonrobust   LLR p-value:                 4.466e-48\n",
       "==============================================================================\n",
       "                 coef    std err          z      P>|z|      [0.025      0.975]\n",
       "------------------------------------------------------------------------------\n",
       "const        -12.4978      3.100     -4.032      0.000     -18.574      -6.422\n",
       "x1                  0        nan        nan        nan         nan         nan\n",
       "x2                  0        nan        nan        nan         nan         nan\n",
       "x3             1.2130      0.304      3.984      0.000       0.616       1.810\n",
       "==============================================================================\n",
       "\n",
       "Possibly complete quasi-separation: A fraction 0.41 of observations can be\n",
       "perfectly predicted. This might indicate that there is complete\n",
       "quasi-separation. In this case some parameters will not be identified.\n",
       "\"\"\""
      ]
     },
     "metadata": {},
     "output_type": "display_data"
    },
    {
     "data": {
      "text/plain": [
       "<matplotlib.colorbar.Colorbar at 0x175c44f70>"
      ]
     },
     "execution_count": 41,
     "metadata": {},
     "output_type": "execute_result"
    },
    {
     "data": {
      "image/png": "[encoded data removed]",
      "text/plain": [
       "<Figure size 480x480 with 2 Axes>"
      ]
     },
     "metadata": {},
     "output_type": "display_data"
    }
   ],
   "source": [
    "np.random.seed(2)\n",
    "n = 200\n",
    "X1 = np.random.randint(1, 7, n)\n",
    "X2 = np.random.randint(1, 7, n)\n",
    "valid = (X1 + X2) != 7\n",
    "X1 = X1[valid]\n",
    "X2 = X2[valid]\n",
    "Y = []\n",
    "\n",
    "for i, (x1, x2) in enumerate(zip(X1, X2)):\n",
    "    y = 0\n",
    "    # if ((x1 < 4) and (x2 < 4)) or ((x1 >= 4) and (x2 >= 4)): # 2d2 rule\n",
    "    # if x2 < 4: # 2d1 rule\n",
    "    if (x1 + x2) > 7:\n",
    "        y = 1\n",
    "    Y.append(y)\n",
    "Y = np.array(Y)\n",
    "\n",
    "exog = sm.add_constant(np.stack([X1, X2, X1*X2], axis=1))\n",
    "endog = Y.reshape([-1, 1]).astype(float)\n",
    "\n",
    "model = sm.Logit(endog, exog)\n",
    "fitted = model.fit_regularized(method='l1', alpha=.5)\n",
    "\n",
    "display(fitted.summary())\n",
    "\n",
    "y = np.zeros([6, 6])\n",
    "for i, x1 in enumerate(range(1, 7)):\n",
    "    for j, x2 in enumerate(range(1, 7)):\n",
    "        x = np.array([1, x1, x2, x1*x2])\n",
    "        logit = np.sum(fitted.params * x)\n",
    "        y[i, j] = 1 / (1 + np.exp(-logit))\n",
    "        if x1 + x2 == 7:\n",
    "            y[i, j] = np.nan\n",
    "\n",
    "plt.matshow(y)\n",
    "plt.colorbar()"
   ]
  },
  {
   "cell_type": "code",
   "execution_count": null,
   "metadata": {},
   "outputs": [],
   "source": []
  }
 ],
 "metadata": {
  "kernelspec": {
   "display_name": "stats",
   "language": "python",
   "name": "python3"
  },
  "language_info": {
   "codemirror_mode": {
    "name": "ipython",
    "version": 3
   },
   "file_extension": ".py",
   "mimetype": "text/x-python",
   "name": "python",
   "nbconvert_exporter": "python",
   "pygments_lexer": "ipython3",
   "version": "3.9.13"
  },
  "orig_nbformat": 4,
  "vscode": {
   "interpreter": {
    "hash": "0793527a65e4ac5d3f1f12949588da73cb94572126544f4f8777cf686fac31e3"
   }
  }
 },
 "nbformat": 4,
 "nbformat_minor": 2
}
