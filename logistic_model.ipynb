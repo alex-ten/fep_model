{
 "cells": [
  {
   "cell_type": "code",
   "execution_count": 2,
   "metadata": {},
   "outputs": [],
   "source": [
    "import numpy as np\n",
    "import matplotlib.pyplot as plt\n",
    "import statsmodels.api as sm"
   ]
  },
  {
   "attachments": {},
   "cell_type": "markdown",
   "metadata": {},
   "source": [
    "**make this plots interactive**"
   ]
  },
  {
   "cell_type": "code",
   "execution_count": 2,
   "metadata": {},
   "outputs": [
    {
     "data": {
      "text/plain": [
       "Text(0, 0.5, 'p(food = 1)')"
      ]
     },
     "execution_count": 2,
     "metadata": {},
     "output_type": "execute_result"
    },
    {
     "data": {
      "image/png": "[encoded data removed]",
      "text/plain": [
       "<Figure size 640x480 with 1 Axes>"
      ]
     },
     "metadata": {},
     "output_type": "display_data"
    }
   ],
   "source": [
    "def logistic(x, b0=0, b1=1):\n",
    "    return 1 / (1 + np.exp(-(b0 + b1*x)))\n",
    "\n",
    "x = np.linspace(-10, 10, 100)\n",
    "y = logistic(x, b0=0, b1=0)\n",
    "\n",
    "plt.plot(x, y)\n",
    "plt.xticks([])\n",
    "plt.xlabel('x')\n",
    "plt.ylabel('p(food = 1)')"
   ]
  },
  {
   "cell_type": "code",
   "execution_count": 12,
   "metadata": {},
   "outputs": [
    {
     "name": "stdout",
     "output_type": "stream",
     "text": [
      "Warning: Maximum number of iterations has been exceeded.\n",
      "         Current function value: 0.000000\n",
      "         Iterations: 35\n"
     ]
    },
    {
     "name": "stderr",
     "output_type": "stream",
     "text": [
      "/opt/miniconda3/envs/stats/lib/python3.9/site-packages/statsmodels/base/model.py:604: ConvergenceWarning: Maximum Likelihood optimization failed to converge. Check mle_retvals\n",
      "  warnings.warn(\"Maximum Likelihood optimization failed to \"\n"
     ]
    },
    {
     "data": {
      "text/html": [
       "<table class=\"simpletable\">\n",
       "<caption>Logit Regression Results</caption>\n",
       "<tr>\n",
       "  <th>Dep. Variable:</th>           <td>y</td>        <th>  No. Observations:  </th>   <td>   200</td>   \n",
       "</tr>\n",
       "<tr>\n",
       "  <th>Model:</th>                 <td>Logit</td>      <th>  Df Residuals:      </th>   <td>   196</td>   \n",
       "</tr>\n",
       "<tr>\n",
       "  <th>Method:</th>                 <td>MLE</td>       <th>  Df Model:          </th>   <td>     3</td>   \n",
       "</tr>\n",
       "<tr>\n",
       "  <th>Date:</th>            <td>Fri, 27 Jan 2023</td> <th>  Pseudo R-squ.:     </th>   <td> 1.000</td>   \n",
       "</tr>\n",
       "<tr>\n",
       "  <th>Time:</th>                <td>13:44:09</td>     <th>  Log-Likelihood:    </th> <td>-1.8958e-06</td>\n",
       "</tr>\n",
       "<tr>\n",
       "  <th>converged:</th>             <td>False</td>      <th>  LL-Null:           </th>  <td> -137.99</td>  \n",
       "</tr>\n",
       "<tr>\n",
       "  <th>Covariance Type:</th>     <td>nonrobust</td>    <th>  LLR p-value:       </th>  <td>1.571e-59</td> \n",
       "</tr>\n",
       "</table>\n",
       "<table class=\"simpletable\">\n",
       "<tr>\n",
       "    <td></td>       <th>coef</th>     <th>std err</th>      <th>z</th>      <th>P>|z|</th>  <th>[0.025</th>    <th>0.975]</th>  \n",
       "</tr>\n",
       "<tr>\n",
       "  <th>const</th> <td>  811.4630</td> <td> 3.56e+04</td> <td>    0.023</td> <td> 0.982</td> <td>-6.89e+04</td> <td> 7.06e+04</td>\n",
       "</tr>\n",
       "<tr>\n",
       "  <th>x1</th>    <td> -232.2362</td> <td> 1.03e+04</td> <td>   -0.023</td> <td> 0.982</td> <td>-2.03e+04</td> <td> 1.99e+04</td>\n",
       "</tr>\n",
       "<tr>\n",
       "  <th>x2</th>    <td> -232.2362</td> <td> 1.03e+04</td> <td>   -0.023</td> <td> 0.982</td> <td>-2.03e+04</td> <td> 1.99e+04</td>\n",
       "</tr>\n",
       "<tr>\n",
       "  <th>x3</th>    <td>   66.4512</td> <td> 2956.688</td> <td>    0.022</td> <td> 0.982</td> <td>-5728.552</td> <td> 5861.454</td>\n",
       "</tr>\n",
       "</table><br/><br/>Complete Separation: The results show that there iscomplete separation.<br/>In this case the Maximum Likelihood Estimator does not exist and the parameters<br/>are not identified."
      ],
      "text/plain": [
       "<class 'statsmodels.iolib.summary.Summary'>\n",
       "\"\"\"\n",
       "                           Logit Regression Results                           \n",
       "==============================================================================\n",
       "Dep. Variable:                      y   No. Observations:                  200\n",
       "Model:                          Logit   Df Residuals:                      196\n",
       "Method:                           MLE   Df Model:                            3\n",
       "Date:                Fri, 27 Jan 2023   Pseudo R-squ.:                   1.000\n",
       "Time:                        13:44:09   Log-Likelihood:            -1.8958e-06\n",
       "converged:                      False   LL-Null:                       -137.99\n",
       "Covariance Type:            nonrobust   LLR p-value:                 1.571e-59\n",
       "==============================================================================\n",
       "                 coef    std err          z      P>|z|      [0.025      0.975]\n",
       "------------------------------------------------------------------------------\n",
       "const        811.4630   3.56e+04      0.023      0.982   -6.89e+04    7.06e+04\n",
       "x1          -232.2362   1.03e+04     -0.023      0.982   -2.03e+04    1.99e+04\n",
       "x2          -232.2362   1.03e+04     -0.023      0.982   -2.03e+04    1.99e+04\n",
       "x3            66.4512   2956.688      0.022      0.982   -5728.552    5861.454\n",
       "==============================================================================\n",
       "\n",
       "Complete Separation: The results show that there iscomplete separation.\n",
       "In this case the Maximum Likelihood Estimator does not exist and the parameters\n",
       "are not identified.\n",
       "\"\"\""
      ]
     },
     "metadata": {},
     "output_type": "display_data"
    }
   ],
   "source": [
    "np.random.seed(2)\n",
    "n = 20\n",
    "X1 = np.random.randint(1, 7, n)\n",
    "X2 = np.random.randint(1, 7, n)\n",
    "Y = []\n",
    "\n",
    "# print(X1)\n",
    "# print(X2)\n",
    "\n",
    "for i, (x1, x2) in enumerate(zip(X1, X2)):\n",
    "    y = 0\n",
    "    if ((x1 < 4) and (x2 < 4)) or ((x1 >= 4) and (x2 >= 4)):\n",
    "        y = 1\n",
    "    Y.append(y)\n",
    "Y = np.array(Y)\n",
    "# print(Y)\n",
    "\n",
    "exog = sm.add_constant(np.stack([X1, X2, X1*X2], axis=1))\n",
    "endog = Y.reshape([-1, 1]).astype(float)\n",
    "\n",
    "logit_mod = sm.Logit(endog, exog)\n",
    "logit_res = logit_mod.fit()\n",
    "\n",
    "display(logit_res.summary())"
   ]
  },
  {
   "cell_type": "code",
   "execution_count": null,
   "metadata": {},
   "outputs": [],
   "source": []
  }
 ],
 "metadata": {
  "kernelspec": {
   "display_name": "stats",
   "language": "python",
   "name": "python3"
  },
  "language_info": {
   "codemirror_mode": {
    "name": "ipython",
    "version": 3
   },
   "file_extension": ".py",
   "mimetype": "text/x-python",
   "name": "python",
   "nbconvert_exporter": "python",
   "pygments_lexer": "ipython3",
   "version": "3.9.13"
  },
  "orig_nbformat": 4,
  "vscode": {
   "interpreter": {
    "hash": "0793527a65e4ac5d3f1f12949588da73cb94572126544f4f8777cf686fac31e3"
   }
  }
 },
 "nbformat": 4,
 "nbformat_minor": 2
}
