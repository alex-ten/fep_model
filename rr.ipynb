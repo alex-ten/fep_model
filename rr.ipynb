{
 "cells": [
  {
   "attachments": {},
   "cell_type": "markdown",
   "metadata": {},
   "source": [
    "# Generative grammar example"
   ]
  },
  {
   "cell_type": "code",
   "execution_count": 55,
   "metadata": {},
   "outputs": [
    {
     "name": "stdout",
     "output_type": "stream",
     "text": [
      "-6.847 (-5)\n",
      "-10.691 (1 + (float(4) / float(1)))\n",
      "-0.663 1\n",
      "-2.860 3\n",
      "-0.663 1\n",
      "-0.663 1\n",
      "-0.663 1\n",
      "-3.881 5\n",
      "-0.663 1\n",
      "-0.663 1\n"
     ]
    }
   ],
   "source": [
    "from LOTlib3.Grammar import Grammar\n",
    "\n",
    "# Define a grammar object\n",
    "# Defaultly this has a start symbol called 'START' but we want to call \n",
    "# it 'EXPR'\n",
    "grammar = Grammar(start='EXPR')\n",
    "\n",
    "# Define some operations\n",
    "grammar.add_rule('EXPR', '(%s + %s)', ['EXPR', 'EXPR'], 1.0)\n",
    "grammar.add_rule('EXPR', '(%s * %s)', ['EXPR', 'EXPR'], 1.0)\n",
    "grammar.add_rule('EXPR', '(float(%s) / float(%s))', ['EXPR', 'EXPR'], 1.0)\n",
    "grammar.add_rule('EXPR', '(-%s)', ['EXPR'], 1.0)\n",
    "\n",
    "# And define some numbers. We'll give them a 1/(n^2) probability\n",
    "for n in range(1,10):\n",
    "    grammar.add_rule('EXPR', str(n), None, 10.0/(n**2))\n",
    "\n",
    "\n",
    "for _ in range(10):\n",
    "    t = grammar.generate()\n",
    "    print(f'{grammar.log_probability(t):.3f}', t)\n"
   ]
  },
  {
   "attachments": {},
   "cell_type": "markdown",
   "metadata": {},
   "source": [
    "# Hypotheses"
   ]
  },
  {
   "cell_type": "code",
   "execution_count": 39,
   "metadata": {},
   "outputs": [],
   "source": [
    "from math import log\n",
    "from LOTlib3.Hypotheses.LOTHypothesis import LOTHypothesis\n",
    "\n",
    "# define a \n",
    "class MyHypothesis(LOTHypothesis):\n",
    "    def __init__(self, **kwargs):\n",
    "        LOTHypothesis.__init__(self, grammar=grammar, display=\"lambda: %s\", **kwargs)\n",
    "\n",
    "    def compute_single_likelihood(self, datum):\n",
    "        if self(*datum.input) == datum.output:\n",
    "            return log((1.0-datum.alpha)/100. + datum.alpha)\n",
    "        else:\n",
    "            return log((1.0-datum.alpha)/100.)"
   ]
  },
  {
   "cell_type": "code",
   "execution_count": null,
   "metadata": {},
   "outputs": [],
   "source": []
  }
 ],
 "metadata": {
  "kernelspec": {
   "display_name": "iac",
   "language": "python",
   "name": "python3"
  },
  "language_info": {
   "codemirror_mode": {
    "name": "ipython",
    "version": 3
   },
   "file_extension": ".py",
   "mimetype": "text/x-python",
   "name": "python",
   "nbconvert_exporter": "python",
   "pygments_lexer": "ipython3",
   "version": "3.10.6"
  },
  "orig_nbformat": 4,
  "vscode": {
   "interpreter": {
    "hash": "b0d92c0f48e14e92ccab483581ae68e0ce8721711bfeacc013e13767dafa3a7c"
   }
  }
 },
 "nbformat": 4,
 "nbformat_minor": 2
}
